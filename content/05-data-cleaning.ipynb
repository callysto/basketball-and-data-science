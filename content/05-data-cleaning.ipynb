{
 "cells": [
  {
   "attachments": {},
   "cell_type": "markdown",
   "metadata": {},
   "source": [
    "![Callysto.ca Banner](https://github.com/callysto/curriculum-notebooks/blob/master/callysto-notebook-banner-top.jpg?raw=true)"
   ]
  },
  {
   "attachments": {},
   "cell_type": "markdown",
   "metadata": {},
   "source": [
    "# Data Cleaning\n",
    "\n",
    "This notebook will explore one of the important steps of data science, data cleaning. This process helps make sure the data we will use is accurate and reliable. We will fix mistakes, handle missing information, maybe remove weird outliers, and make everything nice and consistent.\n",
    "\n",
    "To start, we will use a dataset about NBA team colors from [teamcolorcodes.com](https://teamcolorcodes.com/nba-team-color-codes)."
   ]
  },
  {
   "cell_type": "code",
   "execution_count": null,
   "metadata": {},
   "outputs": [],
   "source": [
    "import pandas as pd\n",
    "nba_colors = pd.read_csv('data/nba-colors.csv')\n",
    "nba_colors"
   ]
  },
  {
   "attachments": {},
   "cell_type": "markdown",
   "metadata": {},
   "source": [
    "We can can see that the \"Color\" columns (Color 1 to Color 5) include the color name and the [RGB color code](https://en.wikipedia.org/wiki/Web_colors). \n",
    "\n",
    "To make it more useful we will divide those into separate columns by splitting on the `#` sign."
   ]
  },
  {
   "cell_type": "code",
   "execution_count": null,
   "metadata": {},
   "outputs": [],
   "source": [
    "for i in range(1,6):\n",
    "    color_names = nba_colors[f'Color {i}'].str.split(' #').str[0]\n",
    "    color_codes = '#'+nba_colors[f'Color {i}'].str.split('#').str[1]\n",
    "    nba_colors[f'Color {i} Name'] = color_names\n",
    "    nba_colors[f'Color {i}'] = color_codes\n",
    "nba_colors"
   ]
  },
  {
   "attachments": {},
   "cell_type": "markdown",
   "metadata": {},
   "source": [
    "Since not every team has the same number of colors, there are a lot of [NaN](https://pandas.pydata.org/pandas-docs/stable/reference/api/pandas.DataFrame.fillna.html) (\"not a number\") values. We could replace those with whatever we would like, so let's fill them with blank spaces."
   ]
  },
  {
   "cell_type": "code",
   "execution_count": null,
   "metadata": {},
   "outputs": [],
   "source": [
    "nba_colors.fillna('')"
   ]
  },
  {
   "attachments": {},
   "cell_type": "markdown",
   "metadata": {},
   "source": [
    "The [next notebook](06-getting-more-data.ipynb) will introduce ways to get more basketball data to work with."
   ]
  },
  {
   "attachments": {},
   "cell_type": "markdown",
   "metadata": {},
   "source": [
    "[![Callysto.ca License](https://github.com/callysto/curriculum-notebooks/blob/master/callysto-notebook-banner-bottom.jpg?raw=true)](https://github.com/callysto/curriculum-notebooks/blob/master/LICENSE.md)"
   ]
  }
 ],
 "metadata": {
  "kernelspec": {
   "display_name": "Python 3",
   "language": "python",
   "name": "python3"
  },
  "language_info": {
   "codemirror_mode": {
    "name": "ipython",
    "version": 3
   },
   "file_extension": ".py",
   "mimetype": "text/x-python",
   "name": "python",
   "nbconvert_exporter": "python",
   "pygments_lexer": "ipython3",
   "version": "3.11.4"
  }
 },
 "nbformat": 4,
 "nbformat_minor": 2
}
