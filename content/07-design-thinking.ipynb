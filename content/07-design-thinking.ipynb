{
 "cells": [
  {
   "attachments": {},
   "cell_type": "markdown",
   "metadata": {},
   "source": [
    "![Callysto.ca Banner](https://github.com/callysto/curriculum-notebooks/blob/master/callysto-notebook-banner-top.jpg?raw=true)"
   ]
  },
  {
   "attachments": {},
   "cell_type": "markdown",
   "id": "f031ac5e",
   "metadata": {},
   "source": [
    "# Table of Contents\n",
    "\n"
   ]
  },
  {
   "attachments": {},
   "cell_type": "markdown",
   "id": "48674d71",
   "metadata": {},
   "source": [
    "- [Design Thinking](#design-thinking)\n"
   ]
  },
  {
   "attachments": {},
   "cell_type": "markdown",
   "metadata": {},
   "source": [
    "# Design Thinking\n",
    "\n",
    "Design thinking is a problem-solving approach that helps us come up with creative solutions. It is a flexible process, but the general steps are:\n",
    "\n",
    "1. Empathize: Try to understand the problem from different perspectives.\n",
    "1. Define: Define the problem as clearly as possible, so that you have a specific goal to work towards.\n",
    "1. Ideate: Brainstorm ideas for solutions.\n",
    "1. Prototype: Create prototypes, which are like rough drafts or models of your solutions.\n",
    "1. Test: Try out your prototypes and get feedback.\n",
    "1. Iterate: Refine and make changes based on tests and feedback.\n",
    "1. Implement: If there is a prototype that works well, explore ways to implement or share it.\n",
    "1. Evaluate: Evaluate the effectiveness of your finished solution, and reflect on your process.\n",
    "\n",
    "As you work on your data science project, keep these steps in mind."
   ]
  },
  {
   "attachments": {},
   "cell_type": "markdown",
   "metadata": {},
   "source": [
    "The [next notebook](08-generative-ai.ipynb) will explore generative artificial intelligence."
   ]
  },
  {
   "attachments": {},
   "cell_type": "markdown",
   "metadata": {},
   "source": [
    "[![Callysto.ca License](https://github.com/callysto/curriculum-notebooks/blob/master/callysto-notebook-banner-bottom.jpg?raw=true)](https://github.com/callysto/curriculum-notebooks/blob/master/LICENSE.md)"
   ]
  }
 ],
 "metadata": {
  "kernelspec": {
   "display_name": "Python 3",
   "language": "python",
   "name": "python3"
  },
  "language_info": {
   "name": "python",
   "version": "3.10.1"
  }
 },
 "nbformat": 4,
 "nbformat_minor": 2
}
