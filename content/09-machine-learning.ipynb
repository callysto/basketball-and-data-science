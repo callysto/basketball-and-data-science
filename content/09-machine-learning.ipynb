{
 "cells": [
  {
   "attachments": {},
   "cell_type": "markdown",
   "metadata": {},
   "source": [
    "![Callysto.ca Banner](https://github.com/callysto/curriculum-notebooks/blob/master/callysto-notebook-banner-top.jpg?raw=true)"
   ]
  },
  {
   "attachments": {},
   "cell_type": "markdown",
   "metadata": {},
   "source": [
    "## Step by Step: Example Machine-Learning Ideas:"
   ]
  },
  {
   "attachments": {},
   "cell_type": "markdown",
   "metadata": {},
   "source": [
    "Machine learning is a field of study that focuses on teaching computers how to learn and make decisions without being explicitly programmed to do so. It's a way for computers to learn from data and improve their performance over time.\n",
    "\n",
    "Let's say we have a machine learning model that wants to *predict* the performance of basketball players based on various factors such as *height*, *weight*, *shooting accuracy*, and *years* of *experience*.\n",
    "\n",
    "To train the model, we would gather data on a large number of basketball players, including their attributes (height, weight, shooting accuracy, experience) and their corresponding performance metrics (points scored, rebounds, assists). The model would then analyze this data and look for patterns and relationships between the attributes and the performance metrics.\n",
    "\n",
    "For instance, the model might discover that taller players tend to score more points or that players with higher shooting accuracy have more assists. It would learn to identify these correlations by analyzing the data and using mathematical algorithms."
   ]
  },
  {
   "attachments": {},
   "cell_type": "markdown",
   "metadata": {},
   "source": [
    "To begin, let's attempt to create a simpler ML model, one which predicts an NBA player's *position* based on their *height*. First, we need to obtain a large, appropriate dataset. The current NBA season has many players which can be analyzed and is up-to-date/modern which makes it an appropriate fit to our model. "
   ]
  },
  {
   "cell_type": "code",
   "execution_count": null,
   "metadata": {},
   "outputs": [],
   "source": [
    "from nba_api.stats.endpoints import commonallplayers, commonplayerinfo\n",
    "import pandas as pd\n",
    "\n",
    "# Fetch all players for the current NBA season\n",
    "players = commonallplayers.CommonAllPlayers(is_only_current_season=1)\n",
    "player_data = players.get_data_frames()[0]\n",
    "\n",
    "# Create an empty list to store player information\n",
    "dataset = []\n",
    "\n",
    "# Iterate through each player and fetch their height and position\n",
    "for player_id in player_data['PERSON_ID']:\n",
    "    player_info = commonplayerinfo.CommonPlayerInfo(player_id=player_id)\n",
    "    player_info_data = player_info.get_data_frames()[0]\n",
    "    height = player_info_data['HEIGHT'][0]\n",
    "    position = player_info_data['POSITION'][0]\n",
    "\n",
    "    # Append the player's height and position to the dataset\n",
    "    dataset.append({'Height': height, 'Position': position})\n",
    "\n",
    "df = pd.DataFrame(dataset)"
   ]
  },
  {
   "attachments": {},
   "cell_type": "markdown",
   "metadata": {},
   "source": [
    "Let's take a look at our dataframe and see if there is anything in particular that needs to be addressed. "
   ]
  },
  {
   "cell_type": "code",
   "execution_count": null,
   "metadata": {},
   "outputs": [],
   "source": [
    "# Take a look at the dataframe\n",
    "df"
   ]
  },
  {
   "attachments": {},
   "cell_type": "markdown",
   "metadata": {},
   "source": [
    "The data looks great overall! However, let's make some changes to help our machine-learning model predict better. In the `Position` column we can remake positions that are labelled as two positions (ex. Forward-Center) into just the first position listed. This removes confusion between players that are hard to categorize and increases the performance of our ML model. \n",
    "\n",
    "Another issue is that in our `Height` column, the height of the players are in a *feet-inch* format. For our model, we'll likely need to total height to be a whole number in order for our model to quantify a certain height to certain positions. Let's solve this issue by converting the format (feet-inch) into only inches. "
   ]
  },
  {
   "cell_type": "code",
   "execution_count": null,
   "metadata": {},
   "outputs": [],
   "source": [
    "# Convert height values that are currently in the format (feet-inch) to only inches\n",
    "df['Height'] = df['Height'].apply(lambda x: int(x.split('-')[0]) * 12 + int(x.split('-')[1]))\n",
    "\n",
    "# Extract the first word before the hyphen in the 'Position' column\n",
    "df['Position'] = df['Position'].str.split('-').str[0]"
   ]
  },
  {
   "attachments": {},
   "cell_type": "markdown",
   "metadata": {},
   "source": [
    "Now that we have a *cleaned* dataframe, let's begin the machine-learning portion alongside creating some *functions* which will help in creating our prediction model. \n",
    "\n",
    "When developing a machine learning model, it is important to split the data into two sets: the *training set* and the *testing set*. The training set is used to teach the model how to make predictions based on the available data. Once the model is trained, the testing set is used to evaluate how well the model can predict on new, unseen data. By having a separate testing set, we can check if the model works well on new data that it hasn't seen before. This helps us understand how accurately the model can make predictions in real-world situations. Additionally, splitting the data allows us to adjust the model's settings to make it perform better on the testing set. It also helps us identify if the model is overfitting, which means it's too focused on the training data and doesn't generalize well to new data. Overall, splitting the data into training and testing sets helps us understand how good our model is and make improvements if needed.\n",
    "\n",
    "Let's use sklearn's *RandomForestClassifier* model using the `Height` feature from our dataframe to predict the `Position` variable. "
   ]
  },
  {
   "cell_type": "code",
   "execution_count": null,
   "metadata": {},
   "outputs": [],
   "source": [
    "from sklearn.ensemble import RandomForestClassifier\n",
    "from sklearn.model_selection import train_test_split\n",
    "from sklearn.metrics import accuracy_score\n",
    "\n",
    "# Create a RandomForestClassifier model\n",
    "model = RandomForestClassifier()\n",
    "# Split the data into training and testing sets\n",
    "X_train, X_test, y_train, y_test = train_test_split(df[['Height']], df['Position'], test_size=0.2, random_state=42)\n",
    "# Train the model\n",
    "model.fit(X_train, y_train)\n",
    "\n",
    "# Make predictions on the test set\n",
    "predictions = model.predict(X_test)\n",
    "# Calculate the accuracy of the model  \n",
    "accuracy = accuracy_score(y_test, predictions)\n",
    "print(accuracy)\n",
    "\n",
    "# Function to predict position based on height input\n",
    "def predict_position(height):\n",
    "    predicted_position = model.predict([[height]])\n",
    "    return predicted_position[0]\n",
    "\n",
    "# Function to fetch player position using nba_api\n",
    "def fetch_player_position_height(player_name):\n",
    "    player = players.find_players_by_full_name(player_name)\n",
    "    if player:\n",
    "        player_id = player[0]['id']\n",
    "        player_info = commonplayerinfo.CommonPlayerInfo(player_id=player_id)\n",
    "        player_info_df = player_info.get_data_frames()[0]\n",
    "        position = player_info_df['POSITION'][0]\n",
    "        height = player_info_df['HEIGHT'][0]\n",
    "        return position, height\n",
    "    else:\n",
    "        return None\n",
    "\n",
    "# Function to convert height to only inches\n",
    "def convert_height_to_inches(height_str):\n",
    "    feet, inches = map(int, height_str.split('-'))\n",
    "    total_inches = feet * 12 + inches\n",
    "    return total_inches"
   ]
  },
  {
   "attachments": {},
   "cell_type": "markdown",
   "metadata": {},
   "source": [
    "Perfect! We have a trained model that seems to be working (to an extent). Let's create an simple way for users to input the names of NBA players and try to predict their corresponding positions. "
   ]
  },
  {
   "cell_type": "code",
   "execution_count": null,
   "metadata": {},
   "outputs": [],
   "source": [
    "playing = True\n",
    "\n",
    "while playing:\n",
    "    # Get player name input from the user\n",
    "    player_name = input(\"Enter NBA player's name: (Note: If you can't find a player, try only inputting their first or last name)\")\n",
    "\n",
    "    # Fetch player position using nba_api\n",
    "    actual_position, actual_height = fetch_player_position_height(player_name)\n",
    "\n",
    "    if actual_position:\n",
    "\n",
    "        # Predict position based on the input height\n",
    "        predicted_position = predict_position(convert_height_to_inches(actual_height))\n",
    "\n",
    "        print(\"Predicted Position:\", predicted_position)\n",
    "        print(\"Actual Position:\", actual_position)\n",
    "\n",
    "        choice = input(\"Do you want to continue? (Y/n): \")\n",
    "        if choice.lower() == 'n':\n",
    "            playing=False\n",
    "    else:\n",
    "        print(\"Player not found. Please enter a valid player name.\")"
   ]
  },
  {
   "attachments": {},
   "cell_type": "markdown",
   "metadata": {},
   "source": [
    "## Helpful ML Sites\n",
    "\n",
    "To explore more ML ideas related to basketball check out:\n",
    "\n",
    "https://betterprogramming.pub/using-pythons-nba-api-to-create-a-simple-regression-model-ac9a3b36bc8\n",
    "\n",
    "https://www.tandfonline.com/doi/full/10.1080/24751839.2021.1977066\n",
    "\n",
    "https://towardsdatascience.com/guide-to-building-a-college-basketball-machine-learning-model-in-python-1c70b83acb51\n",
    "\n",
    "https://towardsdatascience.com/nba-data-science-93e0314bb45e\n",
    "\n",
    "https://watchstadium.com/which-nba-statistics-actually-translate-to-wins-07-13-2019/\n",
    "\n",
    "https://towardsdatascience.com/building-my-first-machine-learning-model-nba-prediction-algorithm-dee5c5bc4cc1"
   ]
  },
  {
   "attachments": {},
   "cell_type": "markdown",
   "metadata": {},
   "source": [
    "Now you can complete your [data science project](10-data-science-project.ipynb)."
   ]
  },
  {
   "attachments": {},
   "cell_type": "markdown",
   "metadata": {},
   "source": [
    "[![Callysto.ca License](https://github.com/callysto/curriculum-notebooks/blob/master/callysto-notebook-banner-bottom.jpg?raw=true)](https://github.com/callysto/curriculum-notebooks/blob/master/LICENSE.md)"
   ]
  }
 ],
 "metadata": {
  "kernelspec": {
   "display_name": "Python 3",
   "language": "python",
   "name": "python3"
  },
  "language_info": {
   "codemirror_mode": {
    "name": "ipython",
    "version": 3
   },
   "file_extension": ".py",
   "mimetype": "text/x-python",
   "name": "python",
   "nbconvert_exporter": "python",
   "pygments_lexer": "ipython3",
   "version": "3.10.8"
  },
  "orig_nbformat": 4
 },
 "nbformat": 4,
 "nbformat_minor": 2
}
