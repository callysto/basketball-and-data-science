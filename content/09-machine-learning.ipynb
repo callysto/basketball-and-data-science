{
 "cells": [
  {
   "attachments": {},
   "cell_type": "markdown",
   "metadata": {},
   "source": [
    "![Callysto.ca Banner](https://github.com/callysto/curriculum-notebooks/blob/master/callysto-notebook-banner-top.jpg?raw=true)"
   ]
  },
  {
   "attachments": {},
   "cell_type": "markdown",
   "metadata": {},
   "source": [
    "# Machine Learning\n",
    "\n",
    "Check out\n",
    "\n",
    "https://betterprogramming.pub/using-pythons-nba-api-to-create-a-simple-regression-model-ac9a3b36bc8\n",
    "\n",
    "https://www.tandfonline.com/doi/full/10.1080/24751839.2021.1977066\n",
    "\n",
    "https://towardsdatascience.com/guide-to-building-a-college-basketball-machine-learning-model-in-python-1c70b83acb51\n",
    "\n",
    "https://towardsdatascience.com/nba-data-science-93e0314bb45e\n",
    "\n",
    "https://watchstadium.com/which-nba-statistics-actually-translate-to-wins-07-13-2019/\n",
    "\n",
    "https://towardsdatascience.com/building-my-first-machine-learning-model-nba-prediction-algorithm-dee5c5bc4cc1"
   ]
  },
  {
   "attachments": {},
   "cell_type": "markdown",
   "metadata": {},
   "source": [
    "## Step by Step: Example Machine-Learning Ideas:"
   ]
  },
  {
   "attachments": {},
   "cell_type": "markdown",
   "metadata": {},
   "source": [
    "To get started, let's begin by explaining what machine-learning is and how it can be applied to generate interesting findings!\n",
    "\n",
    "Machine learning is a field of study that focuses on teaching computers how to learn and make decisions without being explicitly programmed to do so. It's a way for computers to learn from data and improve their performance over time.\n",
    "\n",
    "Let's say we have a machine learning model that wants to *predict* the performance of basketball players based on various factors such as *height*, *weight*, *shooting accuracy*, and *years* of *experience*.\n",
    "\n",
    "To train the model, we would gather data on a large number of basketball players, including their attributes (height, weight, shooting accuracy, experience) and their corresponding performance metrics (points scored, rebounds, assists). The model would then analyze this data and look for patterns and relationships between the attributes and the performance metrics.\n",
    "\n",
    "For instance, the model might discover that taller players tend to score more points or that players with higher shooting accuracy have more assists. It would learn to identify these correlations by analyzing the data and using mathematical algorithms."
   ]
  },
  {
   "cell_type": "code",
   "execution_count": null,
   "metadata": {},
   "outputs": [],
   "source": [
    "from nba_api.stats.endpoints import commonallplayers, commonplayerinfo\n",
    "import pandas as pd\n",
    "\n",
    "player_id = 203076  # Example: Anthony Davis\n",
    "\n",
    "# Fetch player information\n",
    "player_info = commonplayerinfo.CommonPlayerInfo(player_id=player_id)\n",
    "player_data = player_info.get_data_frames()[0]\n",
    "\n",
    "# Print the player's height and position\n",
    "height = player_data['HEIGHT'][0]\n",
    "position = player_data['POSITION'][0]\n",
    "\n",
    "print(f\"Height of Anthony Davis: {height}\")\n",
    "print(f\"Position of Anthony Davis: {position}\")"
   ]
  },
  {
   "cell_type": "code",
   "execution_count": null,
   "metadata": {},
   "outputs": [],
   "source": [
    "\n",
    "\n",
    "# Fetch all players for the current NBA season\n",
    "players = commonallplayers.CommonAllPlayers(is_only_current_season=1)\n",
    "player_data = players.get_data_frames()[0]\n",
    "\n",
    "# Create an empty list to store player information\n",
    "dataset = []\n",
    "\n",
    "# Iterate through each player and fetch their height and position\n",
    "for player_id in player_data['PERSON_ID']:\n",
    "    player_info = commonplayerinfo.CommonPlayerInfo(player_id=player_id)\n",
    "    player_info_data = player_info.get_data_frames()[0]\n",
    "    height = player_info_data['HEIGHT'][0]\n",
    "    position = player_info_data['POSITION'][0]\n",
    "\n",
    "    # Append the player's height and position to the dataset\n",
    "    dataset.append({'Height': height, 'Position': position})\n",
    "\n",
    "\n",
    "df = pd.DataFrame(dataset)"
   ]
  },
  {
   "cell_type": "code",
   "execution_count": null,
   "metadata": {},
   "outputs": [],
   "source": [
    "# Take a look at the dataframe\n",
    "df"
   ]
  },
  {
   "cell_type": "code",
   "execution_count": null,
   "metadata": {},
   "outputs": [],
   "source": [
    "## Convert height values that are currently in the format 6-9 to only inches\n",
    "df['Height'] = df['Height'].apply(lambda x: int(x.split('-')[0]) * 12 + int(x.split('-')[1]))"
   ]
  },
  {
   "cell_type": "code",
   "execution_count": null,
   "metadata": {},
   "outputs": [],
   "source": [
    "import pandas as pd\n",
    "from sklearn.tree import DecisionTreeClassifier\n",
    "from nba_api.stats.static import players\n",
    "\n",
    "# # Create and train the decision tree classifier\n",
    "model = DecisionTreeClassifier()\n",
    "model.fit(df[['Height']], df['Position'])\n",
    "\n",
    "# Function to predict position based on height input\n",
    "def predict_position(height):\n",
    "    predicted_position = model.predict([[height]])\n",
    "    return predicted_position[0]\n",
    "\n",
    "# Function to fetch player position using nba_api\n",
    "def fetch_player_position_height(player_name):\n",
    "    player = players.find_players_by_full_name(player_name)\n",
    "    if player:\n",
    "        player_id = player[0]['id']\n",
    "        player_info = commonplayerinfo.CommonPlayerInfo(player_id=player_id)\n",
    "        player_info_df = player_info.get_data_frames()[0]\n",
    "        position = player_info_df['POSITION'][0]\n",
    "        height = player_info_df['HEIGHT'][0]\n",
    "        return position, height\n",
    "    else:\n",
    "        return None\n",
    "\n",
    "def convert_height_to_inches(height_str):\n",
    "    feet, inches = map(int, height_str.split('-'))\n",
    "    total_inches = feet * 12 + inches\n",
    "    return total_inches\n",
    "\n",
    "playing = True\n",
    "while playing:\n",
    "    # Get player name input from the user\n",
    "    player_name = input(\"Enter NBA player's name: (Note: If you can't find a player, try only inputting their first or last name)\")\n",
    "\n",
    "    # Fetch player position using nba_api\n",
    "    actual_position, actual_height = fetch_player_position_height(player_name)\n",
    "\n",
    "    if actual_position:\n",
    "\n",
    "        # Predict position based on the input height\n",
    "        predicted_position = predict_position(convert_height_to_inches(actual_height))\n",
    "\n",
    "        # Print the predicted position and actual position\n",
    "        print(\"Predicted Position:\", predicted_position)\n",
    "        print(\"Actual Position:\", actual_position)\n",
    "\n",
    "        choice = input(\"Do you want to continue? (Y/n): \")\n",
    "        if choice.lower() == 'n':\n",
    "            playing=False\n",
    "    else:\n",
    "        print(\"Player not found. Please enter a valid player name.\")"
   ]
  },
  {
   "attachments": {},
   "cell_type": "markdown",
   "metadata": {},
   "source": [
    "---\n",
    "\n",
    "## Exercise\n",
    "\n",
    "\n",
    "\n",
    "---"
   ]
  },
  {
   "attachments": {},
   "cell_type": "markdown",
   "metadata": {},
   "source": [
    "Now you can complete your [data science project](10-data-analysis-project.ipynb)."
   ]
  },
  {
   "attachments": {},
   "cell_type": "markdown",
   "metadata": {},
   "source": [
    "[![Callysto.ca License](https://github.com/callysto/curriculum-notebooks/blob/master/callysto-notebook-banner-bottom.jpg?raw=true)](https://github.com/callysto/curriculum-notebooks/blob/master/LICENSE.md)"
   ]
  }
 ],
 "metadata": {
  "kernelspec": {
   "display_name": "Python 3",
   "language": "python",
   "name": "python3"
  },
  "language_info": {
   "codemirror_mode": {
    "name": "ipython",
    "version": 3
   },
   "file_extension": ".py",
   "mimetype": "text/x-python",
   "name": "python",
   "nbconvert_exporter": "python",
   "pygments_lexer": "ipython3",
   "version": "3.11.3"
  },
  "orig_nbformat": 4
 },
 "nbformat": 4,
 "nbformat_minor": 2
}
