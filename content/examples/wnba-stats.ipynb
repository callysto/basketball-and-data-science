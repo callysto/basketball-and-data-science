{
 "cells": [
  {
   "attachments": {},
   "cell_type": "markdown",
   "metadata": {},
   "source": [
    "# WNBA Analysis\n",
    "\n",
    "This project uses WNBA draft data sourced from [Kaggle](https://www.kaggle.com/datasets/mattop/wnba-draft-basketball-player-data-1997-2021). This notebook will showcase how to read data, filter for useful statistics, and plot visualizations.\n",
    "\n",
    "In this notebook we will:\n",
    "- Find the top leaders for major statistics in the WNBA\n",
    "- Visualize top scorers for each team\n",
    "- Visualize pick, year, and scoring output\n",
    "  \n",
    "We will start by importing the dataset sourced from `Kaggle` alongside the necessary libraries to run this project."
   ]
  },
  {
   "cell_type": "code",
   "execution_count": null,
   "metadata": {},
   "outputs": [],
   "source": [
    "import plotly.express as px\n",
    "import pandas as pd\n",
    "print(\"Libraries imported\")"
   ]
  },
  {
   "attachments": {},
   "cell_type": "markdown",
   "metadata": {},
   "source": [
    "## Obtaining Data\n",
    "\n",
    "Using the dataset imported from `Kaggle`, let's begin by first obtaining information about the various columns in the dataset. We'll also be utilizing a *function* to help eliminate wording issues in the columns.\n",
    "\n",
    "In programming, a function is a named set of instructions that performs a specific task. It's like a mini-program within a larger program. A function essentially takes inputs, performs some actions or calculations, and produces an output."
   ]
  },
  {
   "cell_type": "code",
   "execution_count": null,
   "metadata": {},
   "outputs": [],
   "source": [
    "wnba_df = pd.read_csv(r\"https://raw.githubusercontent.com/callysto/basketball-and-data-science/main/content/examples/wnbadraft.csv\")\n",
    "\n",
    "def convert_column_name(column):\n",
    "    words = column.split('_')  # Split the column name by underscores\n",
    "    words = [word.capitalize() for word in words]  # Capitalize each word\n",
    "    return ' '.join(words)  # Join the words with spaces\n",
    "\n",
    "# Rename the columns in the dataframe\n",
    "wnba_df = wnba_df.rename(columns=convert_column_name)\n",
    "display(wnba_df)"
   ]
  },
  {
   "attachments": {},
   "cell_type": "markdown",
   "metadata": {},
   "source": [
    "| Column            | Description                                               |\n",
    "|-------------------|---------------------------------------------------------- |\n",
    "| Overall Pick      | The overall pick number of the player in the WNBA draft.  |\n",
    "| Year              | The year in which the player was drafted.                 |\n",
    "| Team              | The team for which the player was drafted.                |\n",
    "| Player            | The name of the player.                                   |\n",
    "| Former            | The player's former team or college.                      |\n",
    "| College           | The college attended by the player.                       |\n",
    "| Years Played      | The number of years the player has played in the WNBA.    |\n",
    "| Games             | The total number of games played by the player.           |\n",
    "| Win Shares        | A metric indicating the player's overall contribution to team wins.|\n",
    "| Win Shares 40     | A metric indicating the player's contribution per 40 minutes played.|\n",
    "| Minutes Played    | The total number of minutes played by the player.         |\n",
    "| Points            | The total number of points scored by the player.          |\n",
    "| Total Rebounds    | The total number of rebounds grabbed by the player.       |\n",
    "| Assists           | The total number of assists made by the player.           |"
   ]
  },
  {
   "attachments": {},
   "cell_type": "markdown",
   "metadata": {},
   "source": [
    "## Finding Top Performers"
   ]
  },
  {
   "attachments": {},
   "cell_type": "markdown",
   "metadata": {},
   "source": [
    "Now that we know which columns are in the dataset, let's differentiate players who lead major statistics in basketball such as `Points` and `Rebounds`. "
   ]
  },
  {
   "cell_type": "code",
   "execution_count": null,
   "metadata": {},
   "outputs": [],
   "source": [
    "# Create a dictionary to store the column names and their corresponding max player and value\n",
    "max_players = {}\n",
    "\n",
    "# Iterate over each column (excluding non-statistical columns)\n",
    "for column in wnba_df.columns:\n",
    "    if column not in ['Player', 'Year', 'Team', 'Former', 'College', 'Overall Pick', 'Minutes Played']:\n",
    "        max_player = wnba_df[column].idxmax()  # Find the index of the max value for the column\n",
    "        max_value = wnba_df.loc[max_player, column]  # Get the max value\n",
    "        max_players[column] = {'Player': wnba_df.loc[max_player, 'Player'], 'Value': max_value}\n",
    "\n",
    "# Print the player with the highest value and their corresponding statistic for each column\n",
    "for stat, player_info in max_players.items():\n",
    "    player = player_info['Player']\n",
    "    value = player_info['Value']\n",
    "    print(f\"The player with the highest {stat} is {player} with a value of {value}.\")"
   ]
  },
  {
   "attachments": {},
   "cell_type": "markdown",
   "metadata": {},
   "source": [
    "Looking at the output, one player stands out and is repeated **(Sue Bird)**. Many would consider Sue Bird to be the greatest to ever play in the WNBA. She leads in All-Star appearances and has won four championships. Another great accomplishment of hers is that she is the only player in the WNBA to win in three different decades. "
   ]
  },
  {
   "attachments": {},
   "cell_type": "markdown",
   "metadata": {},
   "source": [
    "## Visualizing Results"
   ]
  },
  {
   "attachments": {},
   "cell_type": "markdown",
   "metadata": {},
   "source": [
    "Let's also find the top performers in each team (by Points), and see which teams stand out as highest/lowest scoring teams"
   ]
  },
  {
   "cell_type": "code",
   "execution_count": null,
   "metadata": {},
   "outputs": [],
   "source": [
    "# Create a dataframe with the top three scorers for each team\n",
    "# This is done by first sorting the dataframe by \"Team\" and \"Points\" and then grouping by \"Team\"\n",
    "# head(3) then returns the first 3 rows of the grouped dataframe\n",
    "team_point_leaders = wnba_df.sort_values(['Team', 'Points'], ascending=False).groupby('Team').head(3)\n",
    "\n",
    "# Reset index sets a new index for this dataframe, drop=True removes the old index\n",
    "team_point_leaders = team_point_leaders.reset_index(drop=True)\n",
    "display(team_point_leaders)"
   ]
  },
  {
   "cell_type": "code",
   "execution_count": null,
   "metadata": {},
   "outputs": [],
   "source": [
    "# Create a bar chart of the top three scorers for each team\n",
    "team_fig = px.bar(team_point_leaders, x='Team', y='Points', hover_data=['Player'], color='Team')\n",
    "# Dark theme\n",
    "team_fig.update_layout(template = \"plotly_dark\").show()"
   ]
  },
  {
   "attachments": {},
   "cell_type": "markdown",
   "metadata": {},
   "source": [
    "Looking at the visualization, teams like the *Seattle Storm* and *Phoenix Mercury* stand out as one of the highest scoring teams alongside the Miami Sol being the lowest scoring team. One correlation that can be made is that the highest scoring team, the Seattle Storm, also has the highest scoring individual in the WNBA dataset **(Breanna Stewart)**, which doesn't come as a surprise. "
   ]
  },
  {
   "attachments": {},
   "cell_type": "markdown",
   "metadata": {},
   "source": [
    "## Finding Correlations"
   ]
  },
  {
   "attachments": {},
   "cell_type": "markdown",
   "metadata": {},
   "source": [
    "Using other basketball metrics, let's also see if there is a correlation between `Win Shares` and an WNBA player's `Points`/`Assists`."
   ]
  },
  {
   "cell_type": "code",
   "execution_count": null,
   "metadata": {},
   "outputs": [],
   "source": [
    "px.scatter(wnba_df, x='Win Shares', y='Points', color='Player').show()\n",
    "px.scatter(wnba_df, x='Win Shares', y='Assists', color='Player').show()"
   ]
  },
  {
   "attachments": {},
   "cell_type": "markdown",
   "metadata": {},
   "source": [
    "It appears generally that the higher a player is able to score/dish out assists, the more they contribute to their team's ability to win. \n",
    "\n",
    "One possible reason for a *correlation* between points/assists and win shares is because players who score and distribute the ball effectively tend to have a *positive* impact on their team's success. By scoring *points*, players create scoring opportunities, put pressure on the opposing defense, and contribute to the team's offensive output. *Assists*, on the other hand, indicate a player's ability to create opportunities for their teammates, leading to efficient scoring and better team cohesion."
   ]
  },
  {
   "attachments": {},
   "cell_type": "markdown",
   "metadata": {},
   "source": [
    "## Visualizing in 3 dimensions"
   ]
  },
  {
   "attachments": {},
   "cell_type": "markdown",
   "metadata": {},
   "source": [
    "Lastly, let's visualize in three dimensions! Making a three-dimensional plot essentially means we can look at correlations between three different variables at a time. As a result, we can potentially see if a combination of variables lead to a different result, rather than looking at only two. "
   ]
  },
  {
   "cell_type": "code",
   "execution_count": null,
   "metadata": {},
   "outputs": [],
   "source": [
    "# Create a 3d fig with x being the Year, y being the Overall Pick and z being the Points\n",
    "fig_3d = px.scatter_3d(wnba_df, x = \"Year\", y = \"Overall Pick\", z = \"Points\",\n",
    "                    hover_data = [\"Player\"],\n",
    "                    color = \"Overall Pick\", color_continuous_scale = \"Sunset\")\n",
    "\n",
    "# Update the marker size and make the symbol \"circle-open\" for ease of viewing\n",
    "fig_3d.update_traces(marker = dict(size = 3, symbol = \"circle-open\"))\n",
    "\n",
    "# Dark theme\n",
    "fig_3d.update_layout(template = \"plotly_dark\").show()"
   ]
  },
  {
   "attachments": {},
   "cell_type": "markdown",
   "metadata": {},
   "source": [
    "## Conclusion\n",
    "\n",
    "In this project we used data from [Kaggle](https://www.kaggle.com/datasets/mattop/wnba-draft-basketball-player-data-1997-2021) to look at WNBA data which measures a player's statistical output. \n",
    "\n",
    "In the future it would be interesting to explore different correlations in either two or three-dimensions and utilizing different columns such as `Win Shares 40`. "
   ]
  }
 ],
 "metadata": {
  "kernelspec": {
   "display_name": "Python 3",
   "language": "python",
   "name": "python3"
  },
  "language_info": {
   "codemirror_mode": {
    "name": "ipython",
    "version": 3
   },
   "file_extension": ".py",
   "mimetype": "text/x-python",
   "name": "python",
   "nbconvert_exporter": "python",
   "pygments_lexer": "ipython3",
   "version": "3.10.5"
  },
  "orig_nbformat": 4
 },
 "nbformat": 4,
 "nbformat_minor": 2
}
