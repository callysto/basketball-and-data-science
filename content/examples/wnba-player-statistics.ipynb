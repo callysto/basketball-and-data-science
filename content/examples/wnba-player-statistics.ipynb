{
 "cells": [
  {
   "cell_type": "markdown",
   "metadata": {},
   "source": [
    "# WNBA Player Statistics\n",
    "\n",
    "We are going to user player scoring data from the website [stats.wnba.com](https://stats.wnba.com) that has been saved to a CSV file."
   ]
  },
  {
   "cell_type": "code",
   "execution_count": null,
   "metadata": {},
   "outputs": [],
   "source": [
    "import pandas as pd\n",
    "try:\n",
    "    df = pd.read_csv('../data/wnba-player-scoring-1997-2023.csv')\n",
    "except:\n",
    "    df = pd.read_csv('https://raw.githubusercontent.com/callysto/basketball-and-data-science/main/content/data/wnba-player-scoring-1997-2023.csv')\n",
    "df"
   ]
  },
  {
   "cell_type": "markdown",
   "metadata": {},
   "source": [
    "Let's try a quick visualization of points versus minutes played per game."
   ]
  },
  {
   "cell_type": "code",
   "execution_count": null,
   "metadata": {},
   "outputs": [],
   "source": [
    "import plotly.express as px\n",
    "px.scatter(df, x='MIN', y='PTS', title='Points vs. Minutes Played Per Game', hover_data=['PLAYER', 'TEAM', 'SEASON'])"
   ]
  },
  {
   "cell_type": "markdown",
   "metadata": {},
   "source": [
    "There are a lot of abreviations in the column titles, we can use the glossary on [one of the stats pages](https://stats.wnba.com/team/1611661319/players-traditional) to create a dictionary for translating abreviations to what they mean."
   ]
  },
  {
   "cell_type": "code",
   "execution_count": null,
   "metadata": {},
   "outputs": [],
   "source": [
    "column_titles = {\n",
    "    'GP':'Games Played',\n",
    "    'MIN':'Minutes Played',\n",
    "    'PTS':'Points',\n",
    "    'FGM':'Field Goals Made',\n",
    "    'FGA':'Field Goals Attempted',\n",
    "    'FG%':'Field Goal Percentage',\n",
    "    '3PM':'3 Point Field Goals Made',\n",
    "    '3PA':'3 Point Field Goals Attempted',\n",
    "    '3P%':'3 Point Field Goal Percentage',\n",
    "    'FTM':'Free Throws Made',\n",
    "    'FTA':'Free Throws Attempted',\n",
    "    'FT%':'Free Throw Percentage',\n",
    "    'OREB':'Offensive Rebounds',\n",
    "    'DREB':'Defensive Rebounds',\n",
    "    'REB':'Rebounds',\n",
    "    'AST':'Assists',\n",
    "    'TOV':'Turnovers',\n",
    "    'STL':'Steals',\n",
    "    'BLK':'Blocks',\n",
    "    'PF':'Personal Fouls',\n",
    "    '+/-':'Plus Minus'}\n",
    "print(f'For example, the column \"FG%\" means: {column_titles[\"FG%\"]}')"
   ]
  },
  {
   "cell_type": "markdown",
   "metadata": {},
   "source": [
    "Now we can use that dictionary to set the axis titles."
   ]
  },
  {
   "cell_type": "code",
   "execution_count": null,
   "metadata": {},
   "outputs": [],
   "source": [
    "x = 'MIN'\n",
    "y = 'PTS'\n",
    "x_title = column_titles[x]\n",
    "y_title = column_titles[y]\n",
    "title = f'{y_title} vs. {x_title}'\n",
    "px.scatter(df, x=x, y=y, title=title, hover_data=['PLAYER', 'TEAM', 'SEASON']).update_xaxes(title_text=x_title).update_yaxes(title_text=y_title)"
   ]
  },
  {
   "cell_type": "markdown",
   "metadata": {},
   "source": [
    "It might be interesting to see who scored the most per minute played. We'll create a new column for \"Points per Minute\" and also add it to our `column_titles` dictionary."
   ]
  },
  {
   "cell_type": "code",
   "execution_count": null,
   "metadata": {},
   "outputs": [],
   "source": [
    "df['PPM'] = df['PTS'] / df['MIN']\n",
    "column_titles['PPM'] = 'Points Per Minute'\n",
    "df.sort_values(by='PPM', ascending=False).head(10)"
   ]
  },
  {
   "cell_type": "markdown",
   "metadata": {},
   "source": [
    "There are players in that \"top ten\" list that only played a few games. Let's filter it to include only those who played more than 20 games."
   ]
  },
  {
   "cell_type": "code",
   "execution_count": null,
   "metadata": {},
   "outputs": [],
   "source": [
    "df[ df['GP']>20 ].sort_values(by='PPM', ascending=False).head(10)"
   ]
  },
  {
   "cell_type": "markdown",
   "metadata": {},
   "source": [
    "We notice that there are some players with high PPM values in multiple seasons. Let's find each player's career averages."
   ]
  },
  {
   "cell_type": "code",
   "execution_count": null,
   "metadata": {},
   "outputs": [],
   "source": [
    "career_averages = df.groupby('PLAYER').mean(numeric_only=True)\n",
    "career_averages"
   ]
  },
  {
   "cell_type": "markdown",
   "metadata": {},
   "source": [
    "Now we can make a bar graph of the top 15 \"points per minute\" players who played an average of more than 20 games per season."
   ]
  },
  {
   "cell_type": "code",
   "execution_count": null,
   "metadata": {},
   "outputs": [],
   "source": [
    "graph_this = career_averages[career_averages['GP']>20].sort_values(by='PPM', ascending=False).head(15)\n",
    "px.bar(graph_this, y='PPM', title='Top 15 Points Per Minute Players').update_yaxes(title_text=column_titles['PPM'])"
   ]
  }
 ],
 "metadata": {
  "kernelspec": {
   "display_name": "Python 3",
   "language": "python",
   "name": "python3"
  },
  "language_info": {
   "codemirror_mode": {
    "name": "ipython",
    "version": 3
   },
   "file_extension": ".py",
   "mimetype": "text/x-python",
   "name": "python",
   "nbconvert_exporter": "python",
   "pygments_lexer": "ipython3",
   "version": "3.11.2"
  },
  "orig_nbformat": 4
 },
 "nbformat": 4,
 "nbformat_minor": 2
}
