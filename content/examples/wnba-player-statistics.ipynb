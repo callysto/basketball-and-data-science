{
 "cells": [
  {
   "cell_type": "markdown",
   "metadata": {},
   "source": [
    "# WNBA Player Statistics\n",
    "\n",
    "We are going to user player scoring data from the website [stats.wnba.com](https://stats.wnba.com) that has been saved to a CSV file."
   ]
  },
  {
   "cell_type": "code",
   "execution_count": null,
   "metadata": {},
   "outputs": [],
   "source": [
    "import pandas as pd\n",
    "try:\n",
    "    df = pd.read_csv('../data/wnba-player-scoring-1997-2023.csv')\n",
    "except:\n",
    "    df = pd.read_csv('https://raw.githubusercontent.com/callysto/basketball-and-data-science/main/content/data/wnba-player-scoring-1997-2023.csv')\n",
    "df"
   ]
  },
  {
   "cell_type": "markdown",
   "metadata": {},
   "source": [
    "Let's try a quick visualization of points versus minutes played per game."
   ]
  },
  {
   "cell_type": "code",
   "execution_count": null,
   "metadata": {},
   "outputs": [],
   "source": [
    "import plotly.express as px\n",
    "px.scatter(df, x='MIN', y='PTS', title='Points vs. Minutes Played Per Game', hover_data=['PLAYER', 'TEAM', 'SEASON'])"
   ]
  },
  {
   "cell_type": "markdown",
   "metadata": {},
   "source": [
    "There are a lot of abreviations in the column titles, we can use the glossary on [one of the stats pages](https://stats.wnba.com/team/1611661319/players-traditional) to create a dictionary for translating abreviations to what they mean."
   ]
  },
  {
   "cell_type": "code",
   "execution_count": null,
   "metadata": {},
   "outputs": [],
   "source": [
    "column_titles = {\n",
    "    'GP':'Games Played',\n",
    "    'MIN':'Minutes Played',\n",
    "    'PTS':'Points',\n",
    "    'FGM':'Field Goals Made',\n",
    "    'FGA':'Field Goals Attempted',\n",
    "    'FG%':'Field Goal Percentage',\n",
    "    '3PM':'3 Point Field Goals Made',\n",
    "    '3PA':'3 Point Field Goals Attempted',\n",
    "    '3P%':'3 Point Field Goal Percentage',\n",
    "    'FTM':'Free Throws Made',\n",
    "    'FTA':'Free Throws Attempted',\n",
    "    'FT%':'Free Throw Percentage',\n",
    "    'OREB':'Offensive Rebounds',\n",
    "    'DREB':'Defensive Rebounds',\n",
    "    'REB':'Rebounds',\n",
    "    'AST':'Assists',\n",
    "    'TOV':'Turnovers',\n",
    "    'STL':'Steals',\n",
    "    'BLK':'Blocks',\n",
    "    'PF':'Personal Fouls',\n",
    "    '+/-':'Plus Minus'}\n",
    "print(f'For example, the column \"FG%\" means: {column_titles[\"FG%\"]}')"
   ]
  },
  {
   "cell_type": "markdown",
   "metadata": {},
   "source": [
    "Now we can use that dictionary to set the axis titles."
   ]
  },
  {
   "cell_type": "code",
   "execution_count": null,
   "metadata": {},
   "outputs": [],
   "source": [
    "x = 'MIN'\n",
    "y = 'PTS'\n",
    "x_title = column_titles[x]\n",
    "y_title = column_titles[y]\n",
    "title = f'{y_title} vs. {x_title}'\n",
    "px.scatter(df, x=x, y=y, title=title, hover_data=['PLAYER', 'TEAM', 'SEASON']).update_xaxes(title_text=x_title).update_yaxes(title_text=y_title)"
   ]
  },
  {
   "cell_type": "markdown",
   "metadata": {},
   "source": []
  },
  {
   "cell_type": "code",
   "execution_count": null,
   "metadata": {},
   "outputs": [],
   "source": [
    "from selenium import webdriver\n",
    "import pandas as pd\n",
    "import os\n",
    "\n",
    "teams = {\n",
    "    'Atlanta Dream':1611661330,\n",
    "    'Chicago Sky':1611661329,\n",
    "    'Connecticut Sun':1611661323,\n",
    "    'Indiana Fever':1611661325,\n",
    "    'New York Liberty':1611661313,\n",
    "    'Washington Mystics':1611661322,\n",
    "    'Dallas Wings':1611661321,\n",
    "    'Las Vegas Aces':1611661319,\n",
    "    'Los Angeles Sparks':1611661320,\n",
    "    'Minnesota Lynx':1611661324,\n",
    "    'Phoenix Mercury':1611661317,\n",
    "    'Seattle Storm':1611661328 }\n",
    "\n",
    "old_teams = {\n",
    "    'Cleveland Rockers':1611661315,\n",
    "    'Charlotte Sting':1611661314,\n",
    "    'Houston Comets':1611661316,\n",
    "    'Sacramento Monarchs':1611661318,\n",
    "    'Miami Sol':1611661326,\n",
    "    'Portland Fire':1611661327}\n",
    "\n",
    "all_teams = {**teams, **old_teams}\n",
    "\n",
    "#url = 'https://stats.wnba.com/team/1611661319/players-scoring/?Season=2023'\n",
    "\n",
    "driver = webdriver.Chrome()\n",
    "\n",
    "#season = 2023\n",
    "for season in range(1997, 2024):\n",
    "    #for team, id in teams.items():\n",
    "    #for team, id in old_teams.items():\n",
    "    for team, id in all_teams.items():\n",
    "        # check if file exists\n",
    "        if os.path.isfile(f'data/{team} - {season}.csv'):\n",
    "            pass\n",
    "        else:\n",
    "            print(season, team)\n",
    "            try:\n",
    "                url = f'https://stats.wnba.com/team/{id}/players-traditional?Season={season}'\n",
    "                driver.get(url)\n",
    "                tables = driver.find_elements('xpath', \"//table\")\n",
    "                #df = pd.read_html(tables[3].get_attribute('outerHTML'))[0]\n",
    "                for table in tables:\n",
    "                    df = pd.read_html(table.get_attribute('outerHTML'))[0]\n",
    "                    if df.columns[0] == 'Players' and df.columns[1] == 'GP':\n",
    "                        df['TEAM'] = team\n",
    "                        df['SEASON'] = season\n",
    "                        df.to_csv(f'data/{team} - {season}.csv', index=False)\n",
    "                        break\n",
    "            except:\n",
    "                print('Error')\n",
    "\n",
    "driver.quit()\n",
    "\n",
    "# join all the csv files into one dataframe\n",
    "import os\n",
    "import pandas as pd\n",
    "df_all = pd.DataFrame()\n",
    "for file in os.listdir('data'):\n",
    "    if file.endswith('.csv'):\n",
    "        df = pd.read_csv(f'data/{file}')\n",
    "        df_all = pd.concat([df_all, df])\n",
    "# rename the Players column\n",
    "df_all.rename(columns={'Players':'PLAYER'}, inplace=True)\n",
    "# add a column for Team ID\n",
    "df_all['TEAM_ID'] = df_all['TEAM'].map(all_teams)\n",
    "df_all.to_csv('data/wnba.csv', index=False)"
   ]
  }
 ],
 "metadata": {
  "kernelspec": {
   "display_name": "Python 3",
   "language": "python",
   "name": "python3"
  },
  "language_info": {
   "codemirror_mode": {
    "name": "ipython",
    "version": 3
   },
   "file_extension": ".py",
   "mimetype": "text/x-python",
   "name": "python",
   "nbconvert_exporter": "python",
   "pygments_lexer": "ipython3",
   "version": "3.11.2"
  },
  "orig_nbformat": 4
 },
 "nbformat": 4,
 "nbformat_minor": 2
}
