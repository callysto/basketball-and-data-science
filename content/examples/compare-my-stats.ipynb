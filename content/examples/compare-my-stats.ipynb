{
 "cells": [
  {
   "cell_type": "code",
   "execution_count": null,
   "id": "153c7b96",
   "metadata": {},
   "outputs": [],
   "source": [
    "!pip install nba_api"
   ]
  },
  {
   "cell_type": "code",
   "execution_count": null,
   "id": "09a736ba",
   "metadata": {},
   "outputs": [],
   "source": [
    "from nba_api.stats.endpoints import playercareerstats, leagueleaders\n",
    "from nba_api.stats.static import players\n",
    "import matplotlib.pyplot as plt\n",
    "import plotly.express as px\n",
    "import pandas as pd\n",
    "import numpy as np"
   ]
  },
  {
   "cell_type": "code",
   "execution_count": null,
   "id": "9ae8dab6",
   "metadata": {},
   "outputs": [],
   "source": [
    "player_dict = players.get_players()\n",
    "player_dict"
   ]
  },
  {
   "cell_type": "code",
   "execution_count": null,
   "id": "a57d9f0d",
   "metadata": {},
   "outputs": [],
   "source": [
    "for player in player_dict:\n",
    "    if player['first_name'] == \"Pascal\":\n",
    "        pascal_id, pascal_name = (player['id'], player['full_name'])\n",
    "print(f\"{pascal_name}'s id is {pascal_id}\")"
   ]
  },
  {
   "cell_type": "code",
   "execution_count": null,
   "id": "f103fbee",
   "metadata": {},
   "outputs": [],
   "source": [
    "pascal_career = playercareerstats.PlayerCareerStats(player_id=pascal_id)\n",
    "pascal_data = pascal_career.get_data_frames()[0]\n",
    "pascal_data"
   ]
  },
  {
   "cell_type": "code",
   "execution_count": null,
   "id": "33a6b488",
   "metadata": {},
   "outputs": [],
   "source": [
    "# Pull data for the top 500 scorers by PTS column\n",
    "season_leaders = leagueleaders.LeagueLeaders(\n",
    "    per_mode48='PerGame',\n",
    "    season_type_all_star='Regular Season',\n",
    "    stat_category_abbreviation='PTS'\n",
    ").get_data_frames()[0]\n",
    "\n",
    "display(season_leaders)"
   ]
  },
  {
   "cell_type": "code",
   "execution_count": null,
   "id": "2a97bc7b",
   "metadata": {},
   "outputs": [],
   "source": [
    "# Pascal's Overall Rank and PTS, REBS, etc..\n",
    "season_leaders[season_leaders['PLAYER'] == \"Pascal Siakam\"]"
   ]
  },
  {
   "cell_type": "code",
   "execution_count": null,
   "id": "0ac6da4b",
   "metadata": {},
   "outputs": [],
   "source": [
    "things_to_add = ['REB', 'AST', 'STL', 'BLK', 'PTS']\n",
    "for thing in things_to_add:\n",
    "    pascal_data[thing+'/GP'] = round(pascal_data[thing]/pascal_data['GP'], 1)"
   ]
  },
  {
   "cell_type": "code",
   "execution_count": null,
   "id": "addaa604",
   "metadata": {},
   "outputs": [],
   "source": [
    "# Example of a student inputting their own camp stats to compare\n",
    "def find_average(stat):\n",
    "    return [round(sum(stat) / len(stat), 1)]\n",
    "\n",
    "my_points = [10, 8, 22, 15, 9]\n",
    "my_rebounds = [2, 4, 3, 10, 8]\n",
    "my_assists = [2, 3, 7, 5, 4, 9]\n",
    "my_blocks = [0, 1, 1, 0, 2, 1]\n",
    "my_steals = [0, 0 ,1, 2, 1, 1]\n",
    "\n",
    "avg_points = find_average(my_points)\n",
    "avg_rebounds = find_average(my_rebounds)\n",
    "avg_assists = find_average(my_assists)\n",
    "avg_steals = find_average(my_steals)\n",
    "avg_blocks = find_average(my_blocks)\n",
    "\n",
    "my_own_data = {\"PLAYER_ID\": 'Eric Lee', \"SEASON_ID\": \"2022-23\", \"PTS/GP\": avg_points, \"REB/GP\": avg_rebounds, \"AST/GP\": avg_assists, \"STL/GP\":avg_steals, \"BLK/GP\": avg_blocks }\n",
    "df = pd.DataFrame(data=my_own_data)\n",
    "total_info = pd.concat([pascal_data, df])\n",
    "total_info"
   ]
  },
  {
   "cell_type": "code",
   "execution_count": null,
   "id": "7239cfbe",
   "metadata": {
    "scrolled": false
   },
   "outputs": [],
   "source": [
    "# Simple plots a student can make \n",
    "pts_fig = px.scatter(total_info, y='PTS/GP', x= 'SEASON_ID', color='PLAYER_ID', size='PTS/GP', title='Comparing my Stats to Pascal Siakim')\n",
    "assist_fig = px.scatter(total_info, y='AST/GP', x= 'SEASON_ID', color='PLAYER_ID', size='AST/GP', title='Comparing my Stats to Pascal Siakim')\n",
    "rebounds_fig = px.scatter(total_info, y='REB/GP', x= 'SEASON_ID', color='PLAYER_ID', size='REB/GP', title='Comparing my Stats to Pascal Siakim')\n",
    "blocks_fig = px.scatter(total_info, y='BLK/GP', x= 'SEASON_ID', color='PLAYER_ID', size='BLK/GP', title='Comparing my Stats to Pascal Siakim')\n",
    "steals_fig = px.scatter(total_info, y='STL/GP', x= 'SEASON_ID', color='PLAYER_ID', size='STL/GP', title='Comparing my Stats to Pascal Siakim')\n",
    "display(pts_fig, assist_fig, rebounds_fig, blocks_fig, steals_fig)"
   ]
  }
 ],
 "metadata": {
  "kernelspec": {
   "display_name": "Python 3 (ipykernel)",
   "language": "python",
   "name": "python3"
  },
  "language_info": {
   "codemirror_mode": {
    "name": "ipython",
    "version": 3
   },
   "file_extension": ".py",
   "mimetype": "text/x-python",
   "name": "python",
   "nbconvert_exporter": "python",
   "pygments_lexer": "ipython3",
   "version": "3.10.8"
  }
 },
 "nbformat": 4,
 "nbformat_minor": 5
}
