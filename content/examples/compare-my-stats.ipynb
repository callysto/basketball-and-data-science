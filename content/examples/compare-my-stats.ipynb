{
 "cells": [
  {
   "attachments": {},
   "cell_type": "markdown",
   "id": "bce32f7a",
   "metadata": {},
   "source": [
    "# Compare my Stats\n",
    "\n",
    "This project uses NBA data sourced from [nba_api](https://github.com/swar/nba_api). It showcases how to read in the data, comparing data, and plot visualizations.\n",
    "\n",
    "We will be achieving 2 objectives in this notebook:\n",
    "\n",
    "* finding player stats, finding Pascal Siakim's stats specifically\n",
    "* comparing Pascal Siakim's stats\n",
    "\n",
    "We will start by importing the data sourced from `nba_api`"
   ]
  },
  {
   "cell_type": "code",
   "execution_count": null,
   "id": "153c7b96",
   "metadata": {},
   "outputs": [],
   "source": [
    "!pip install nba_api"
   ]
  },
  {
   "cell_type": "code",
   "execution_count": null,
   "id": "09a736ba",
   "metadata": {},
   "outputs": [],
   "source": [
    "from nba_api.stats.endpoints import playercareerstats, leagueleaders\n",
    "from nba_api.stats.static import players\n",
    "import matplotlib.pyplot as plt\n",
    "import plotly.express as px\n",
    "import pandas as pd\n",
    "print(\"Libraries imported\")"
   ]
  },
  {
   "attachments": {},
   "cell_type": "markdown",
   "id": "0ed2319a",
   "metadata": {},
   "source": [
    "## Obtaining Data\n",
    "\n",
    "Using the `nba_api` information, let's begin by first obtaining information about the *players*."
   ]
  },
  {
   "attachments": {},
   "cell_type": "markdown",
   "id": "5b03ea16",
   "metadata": {},
   "source": [
    "In Python, a list is an ordered collection of items. You can think of it as a container that holds multiple values. The items in a list can be of any data type, such as numbers, strings, or even other lists. Lists are defined using square brackets **'[]'**, and the items inside the list are separated by commas."
   ]
  },
  {
   "attachments": {},
   "cell_type": "markdown",
   "id": "713b6174",
   "metadata": {},
   "source": [
    "On the other hand, a dictionary in Python is an unordered collection of key-value pairs. It allows you to store and retrieve values based on a specific key. Dictionaries are defined using curly braces {}, and each key-value pair is separated by a colon :. The keys in a dictionary must be unique.\n",
    "\n",
    "In our particular list called `players_information`, we have entries stored as a *dictionary*. "
   ]
  },
  {
   "cell_type": "code",
   "execution_count": null,
   "id": "9ae8dab6",
   "metadata": {},
   "outputs": [],
   "source": [
    "players_information = players.get_players()\n",
    "players_information"
   ]
  },
  {
   "attachments": {},
   "cell_type": "markdown",
   "id": "6dcb2ced",
   "metadata": {},
   "source": [
    "Now, if you have a list where each entry is a dictionary, you can access information by combining the indexing and key access techniques. For example, to retrieve the `full_name` and `id` of the **first** entry in our list, we'd do the following:"
   ]
  },
  {
   "cell_type": "code",
   "execution_count": null,
   "id": "d11cc37d",
   "metadata": {},
   "outputs": [],
   "source": [
    "first_player = players_information[0]\n",
    "full_name = first_player['full_name']\n",
    "id_player = first_player['id']\n",
    "print(f'The full name of this player is: {full_name}')\n",
    "print(f\"The ID of this player is: {id_player}\")"
   ]
  },
  {
   "attachments": {},
   "cell_type": "markdown",
   "id": "ff87dff8",
   "metadata": {},
   "source": [
    "Using what was learned before, we can then obtain **Pascal Siakim's** ID by iterating over this entire list and checking if the name **Pascal Siakim** matches with any entry in the `first_name` key. If it finds a player with that name, it stores their ID and full name in variables *pascal_id* and *pascal_name*. Finally, it prints the full name and ID of the player with the name \"Pascal\"."
   ]
  },
  {
   "cell_type": "code",
   "execution_count": null,
   "id": "a57d9f0d",
   "metadata": {},
   "outputs": [],
   "source": [
    "# Iterate over each dictionary (player information) in the list\n",
    "for player in players_information:\n",
    "    # Check if the 'first_name' key in the current player's dictionary is \"Pascal\"\n",
    "    if player['first_name'] == \"Pascal\":\n",
    "        # If the condition is true, assign the 'id' and 'full_name' values to variables\n",
    "        pascal_id, pascal_name = (player['id'], player['full_name'])\n",
    "print(f\"{pascal_name}'s id is {pascal_id}\")"
   ]
  },
  {
   "attachments": {},
   "cell_type": "markdown",
   "id": "4a563dff",
   "metadata": {},
   "source": [
    "Now that we have Pascal Siakim's ID, let's find his historic stats in the NBA and compare them with the players in the league. "
   ]
  },
  {
   "attachments": {},
   "cell_type": "markdown",
   "id": "8fbdd6ec",
   "metadata": {},
   "source": [
    "## Comparing Stats"
   ]
  },
  {
   "attachments": {},
   "cell_type": "markdown",
   "id": "bceb8597",
   "metadata": {},
   "source": [
    "When obtaining information on player stats, we obtain the information in an **dataframe**.\n",
    "\n",
    "In simple terms, a dataframe is a two-dimensional table-like structure that stores data in rows and columns. It is a way to organize and represent data in a structured format, similar to a spreadsheet or a database table. Think of a dataframe as a collection of related information arranged in a tabular form. Each row in the dataframe represents a record or observation, and each column represents a specific attribute or characteristic of the data."
   ]
  },
  {
   "cell_type": "code",
   "execution_count": null,
   "id": "f103fbee",
   "metadata": {},
   "outputs": [],
   "source": [
    "pascal_career = playercareerstats.PlayerCareerStats(player_id=pascal_id)  # Create an instance of PlayerCareerStats for Pascal using his player ID\n",
    "pascal_data = pascal_career.get_data_frames()[0]  # Retrieve the data frames (tables) for Pascal's career stats and select the first table\n",
    "pascal_data  # Display the data frame containing Pascal's career stats"
   ]
  },
  {
   "attachments": {},
   "cell_type": "markdown",
   "id": "ff043dbb",
   "metadata": {},
   "source": [
    "In the dataframe above, the stats we've obtained are totals, not averages. Later on in this notebook, we'll solve the issue of having the data in totals. "
   ]
  },
  {
   "cell_type": "code",
   "execution_count": null,
   "id": "33a6b488",
   "metadata": {},
   "outputs": [],
   "source": [
    "# Pull data for the top 500 scorers by PTS column\n",
    "season_leaders = leagueleaders.LeagueLeaders(\n",
    "    per_mode48='PerGame',\n",
    "    season_type_all_star='Regular Season',\n",
    "    stat_category_abbreviation='PTS'\n",
    ").get_data_frames()[0]\n",
    "\n",
    "display(season_leaders)"
   ]
  },
  {
   "cell_type": "code",
   "execution_count": null,
   "id": "aa891508",
   "metadata": {},
   "outputs": [],
   "source": [
    "season_leaders.columns"
   ]
  },
  {
   "attachments": {},
   "cell_type": "markdown",
   "id": "18a23290",
   "metadata": {},
   "source": [
    "Based on the dataframe from above, each row represents a player's statistical performance. Here's a breakdown of the columns in the dataframe:\n",
    "\n",
    "- `PLAYER_ID`: Unique identifier for each player.\n",
    "- `RANK`: Ranking of the player based on a specific criterion.\n",
    "- `PLAYER`: Player's name.\n",
    "- `TEAM_ID`: Unique identifier for the team the player is associated with.\n",
    "- `TEAM`: Team name.\n",
    "- `GP`: Number of games played.\n",
    "- `MIN`: Average minutes played per game.\n",
    "- `FGM`: Field goals made per game.\n",
    "- `FGA`: Field goals attempted per game.\n",
    "- `FG_PCT`: Field goal percentage.\n",
    "- `FG3M`: Three-point field goals made per game.\n",
    "- `FG3A`: Three-point field goals attempted per game.\n",
    "- `FG3_PCT`: Three-point field goal percentage.\n",
    "- `FTM`: Free throws made per game.\n",
    "- `FTA`: Free throws attempted per game.\n",
    "- `FT_PCT`: Free throw percentage.\n",
    "- `OREB`: Offensive rebounds per game.\n",
    "- `DREB`: Defensive rebounds per game.\n",
    "- `REB`: Total rebounds per game.\n",
    "- `AST`: Assists per game.\n",
    "- `STL`: Steals per game.\n",
    "- `BLK`: Blocks per game.\n",
    "- `TOV`: Turnovers per game.\n",
    "- `PTS`: Points per game.\n",
    "- `EFF`: Efficiency rating."
   ]
  },
  {
   "cell_type": "code",
   "execution_count": null,
   "id": "2a97bc7b",
   "metadata": {},
   "outputs": [],
   "source": [
    "# Pascal's Overall Rank and PTS, REBS, etc..\n",
    "season_leaders[season_leaders['PLAYER'] == \"Pascal Siakam\"]"
   ]
  },
  {
   "attachments": {},
   "cell_type": "markdown",
   "id": "d76d7c90",
   "metadata": {},
   "source": [
    "Based on our understanding of the columns above, it appears Pascal Siakim is currently one of the best player's in the NBA! He ranks 19th out of 244 players, alongside averaging a staggering 24.2 points and 7.8 rebounds."
   ]
  },
  {
   "attachments": {},
   "cell_type": "markdown",
   "id": "1ce6f2ab",
   "metadata": {},
   "source": [
    "## Plotting Visualizations"
   ]
  },
  {
   "attachments": {},
   "cell_type": "markdown",
   "id": "e3793da4",
   "metadata": {},
   "source": [
    "Now that we have Pascal Siakim's stats, let's visualize them, alongside compare our own stats to Pascal Siakim."
   ]
  },
  {
   "attachments": {},
   "cell_type": "markdown",
   "id": "e954bb39",
   "metadata": {},
   "source": [
    "To begin, let's first change Pascal Siakim's *total stats* into *averages*."
   ]
  },
  {
   "cell_type": "code",
   "execution_count": null,
   "id": "0ac6da4b",
   "metadata": {},
   "outputs": [],
   "source": [
    "# Obtain Pascal Siakam's average stats for each season\n",
    "# Define a list of stats to calculate the average for\n",
    "things_to_add = ['REB', 'AST', 'STL', 'BLK', 'PTS']\n",
    "\n",
    "# Iterate over each stat in the list\n",
    "for thing in things_to_add:\n",
    "    # Create a new column in the Pascal's data DataFrame\n",
    "    # This new column represents the average of the current stat per game\n",
    "    # The calculation is done by dividing the current stat by the 'GP' (games played) column\n",
    "    # The result is rounded to one decimal place using the 'round' function\n",
    "    pascal_data[thing+'/GP'] = round(pascal_data[thing] / pascal_data['GP'], 1)"
   ]
  },
  {
   "attachments": {},
   "cell_type": "markdown",
   "id": "d776127b",
   "metadata": {},
   "source": [
    "Perfect! Now let's compare our own stats compared to Pascal Siakim's. \n",
    "\n",
    "We'll also be utilizing a **function** in our cell below. \n",
    "\n",
    "In programming, a function is a block of reusable code that performs a specific task. It is designed to take input (arguments) and produce output (return value) based on the given input. Functions help to organize code and make it more modular, as they can be called from different parts of a program whenever their functionality is needed.\n",
    "\n",
    "In the provided code, the find_average function is defined. This function takes a single argument called stat, which is expected to be a list of numbers. The purpose of the find_average function is to calculate the average value of the numbers in the input list."
   ]
  },
  {
   "cell_type": "code",
   "execution_count": null,
   "id": "addaa604",
   "metadata": {},
   "outputs": [],
   "source": [
    "# Obtain average of each stat\n",
    "def find_average(stat):\n",
    "    return [round(sum(stat) / len(stat), 1)]\n",
    "\n",
    "# Input personal stats\n",
    "# Define personal statistics for points, rebounds, assists, blocks, and steals\n",
    "my_points = [10, 8, 22, 15, 9]\n",
    "my_rebounds = [2, 4, 3, 10, 8]\n",
    "my_assists = [2, 3, 7, 5, 4, 9]\n",
    "my_blocks = [0, 1, 1, 0, 2, 1]\n",
    "my_steals = [0, 0, 1, 2, 1, 1]\n",
    "\n",
    "# Calculate the average of each personal stat by calling the 'find_average' function\n",
    "avg_points = find_average(my_points)\n",
    "avg_rebounds = find_average(my_rebounds)\n",
    "avg_assists = find_average(my_assists)\n",
    "avg_steals = find_average(my_steals)\n",
    "avg_blocks = find_average(my_blocks)\n",
    "\n",
    "# Create a dictionary to store personal data\n",
    "my_own_data = {\n",
    "    \"PLAYER_ID\": 'Eric Lee',\n",
    "    \"SEASON_ID\": \"2022-23\",\n",
    "    \"PTS/GP\": avg_points,\n",
    "    \"REB/GP\": avg_rebounds,\n",
    "    \"AST/GP\": avg_assists,\n",
    "    \"STL/GP\": avg_steals,\n",
    "    \"BLK/GP\": avg_blocks\n",
    "}\n",
    "\n",
    "# Create a DataFrame using the 'my_own_data' dictionary\n",
    "df = pd.DataFrame(data=my_own_data)\n",
    "\n",
    "# Concatenate the 'pascal_data' DataFrame and the personal DataFrame ('df') to combine the information\n",
    "total_info = pd.concat([pascal_data, df])\n"
   ]
  },
  {
   "attachments": {},
   "cell_type": "markdown",
   "id": "32ca47c3",
   "metadata": {},
   "source": [
    "Using the information we've obtained above, we can now plot our dataframe and compare our stats versus Pascal Siakim."
   ]
  },
  {
   "cell_type": "code",
   "execution_count": null,
   "id": "7239cfbe",
   "metadata": {
    "scrolled": false
   },
   "outputs": [],
   "source": [
    "# Create a scatter plot using the total_info dataframe to compare our stats to Pascal Siakim\n",
    "\n",
    "pts_fig = px.scatter(total_info, y='PTS/GP', x='SEASON_ID', color='PLAYER_ID', size='PTS/GP', title='Comparing my Stats to Pascal Siakim', labels={'PTS/GP': 'Points per Game', 'SEASON_ID': 'Season'})\n",
    "\n",
    "# Create a scatter plot for assists per game (AST/GP)\n",
    "assist_fig = px.scatter(total_info, y='AST/GP', x='SEASON_ID', color='PLAYER_ID', size='AST/GP', title='Comparing my Stats to Pascal Siakim', labels={'AST/GP': 'Assists per Game', 'SEASON_ID': 'Season'})\n",
    "\n",
    "# Create a scatter plot for rebounds per game (REB/GP)\n",
    "rebounds_fig = px.scatter(total_info, y='REB/GP', x='SEASON_ID', color='PLAYER_ID', size='REB/GP', title='Comparing my Stats to Pascal Siakim', labels={'REB/GP': 'Rebounds per Game', 'SEASON_ID': 'Season'})\n",
    "\n",
    "# Create a scatter plot for blocks per game (BLK/GP)\n",
    "blocks_fig = px.scatter(total_info, y='BLK/GP', x='SEASON_ID', color='PLAYER_ID', size='BLK/GP', title='Comparing my Stats to Pascal Siakim', labels={'BLK/GP': 'Blocks per Game', 'SEASON_ID': 'Season'})\n",
    "\n",
    "# Create a scatter plot for steals per game (STL/GP)\n",
    "steals_fig = px.scatter(total_info, y='STL/GP', x='SEASON_ID', color='PLAYER_ID', size='STL/GP', title='Comparing my Stats to Pascal Siakim', labels={'STL/GP': 'Steals per Game', 'SEASON_ID': 'Season'})\n",
    "\n",
    "# Display all the created scatter plots (pts_fig, assist_fig, rebounds_fig, blocks_fig, steals_fig)\n",
    "display(pts_fig, assist_fig, rebounds_fig, blocks_fig, steals_fig)\n"
   ]
  }
 ],
 "metadata": {
  "kernelspec": {
   "display_name": "Python 3 (ipykernel)",
   "language": "python",
   "name": "python3"
  },
  "language_info": {
   "codemirror_mode": {
    "name": "ipython",
    "version": 3
   },
   "file_extension": ".py",
   "mimetype": "text/x-python",
   "name": "python",
   "nbconvert_exporter": "python",
   "pygments_lexer": "ipython3",
   "version": "3.10.8"
  }
 },
 "nbformat": 4,
 "nbformat_minor": 5
}
