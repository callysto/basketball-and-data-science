{
 "cells": [
  {
   "attachments": {},
   "cell_type": "markdown",
   "metadata": {},
   "source": [
    "# Canadian Population\n",
    "\n",
    "This project uses Canadian population data from a [Wikipedia page](https://en.wikipedia.org/wiki/Population_of_Canada_by_province_and_territory). It showcases how to read in the data, clean it up so it can be plotted, and then plots the data.\n",
    "\n",
    "We look at two data cases:\n",
    "\n",
    "* population by province or territory\n",
    "* population density by province or territory\n",
    "\n",
    "We will start by importing the data that had been copied from Wikipedia."
   ]
  },
  {
   "cell_type": "code",
   "execution_count": null,
   "metadata": {},
   "outputs": [],
   "source": [
    "import pandas as pd\n",
    "df = pd.read_csv('population-canada.csv')\n",
    "df"
   ]
  },
  {
   "attachments": {},
   "cell_type": "markdown",
   "metadata": {},
   "source": [
    "## Data Cleaning\n",
    "\n",
    "### Fix the Table of Contents\n",
    "\n",
    "If you look at the the output above you'll see that there are two contents rows, which makes plotting more difficult. We could fix it by joining the column names and the first row, then dropping the first row. This isn't ideal but it can be cleaned up later by renaming the columns."
   ]
  },
  {
   "cell_type": "code",
   "execution_count": null,
   "metadata": {},
   "outputs": [],
   "source": [
    "df.columns = df.columns + '_' + df.iloc[0]\n",
    "df = df.drop(0)\n",
    "df"
   ]
  },
  {
   "attachments": {},
   "cell_type": "markdown",
   "metadata": {},
   "source": [
    "Let's now rename the column headers to clean it up.\n",
    "\n",
    "You'll notice we use underscores (\"`_`\") between the words. It's not necessary, but it makes it easier for some of the programming we'll be doing later."
   ]
  },
  {
   "cell_type": "code",
   "execution_count": null,
   "metadata": {},
   "outputs": [],
   "source": [
    "\n",
    "df.columns = ['Population_Rank', \n",
    "              'Name', \n",
    "              'Population_2021', \n",
    "              'Population_Proportion', \n",
    "              'Growth_2016_21', \n",
    "              'Land_area_km2', \n",
    "              'Population_density_per_km2',\n",
    "              'Commons_house_seats', \n",
    "              'Commons_seats_Proportion', \n",
    "              'Senate_seats',\n",
    "              'Senate_seats_Proportion']\n",
    "df"
   ]
  },
  {
   "attachments": {},
   "cell_type": "markdown",
   "metadata": {},
   "source": [
    "We can look at the column names like this:"
   ]
  },
  {
   "cell_type": "code",
   "execution_count": null,
   "metadata": {},
   "outputs": [],
   "source": [
    "df.columns"
   ]
  },
  {
   "attachments": {},
   "cell_type": "markdown",
   "metadata": {},
   "source": [
    "### Deleting Rows We Don't Need\n",
    "\n",
    "If we look at the dataframe we see that there's a \"Canada\" line in the rows. We need to delete that!\n",
    "\n",
    "We can find that row by looking for the item in the `'Name'` column that equals `'Canada'`."
   ]
  },
  {
   "cell_type": "code",
   "execution_count": null,
   "metadata": {},
   "outputs": [],
   "source": [
    "df[df['Name'] == 'Canada']"
   ]
  },
  {
   "attachments": {},
   "cell_type": "markdown",
   "metadata": {},
   "source": [
    "We delete rows using the index number (or value), so let's modify the above code accordingly. You'll see that we add `.index` to the search term."
   ]
  },
  {
   "cell_type": "code",
   "execution_count": null,
   "metadata": {},
   "outputs": [],
   "source": [
    "df[df['Name'] == 'Canada'].index"
   ]
  },
  {
   "attachments": {},
   "cell_type": "markdown",
   "metadata": {},
   "source": [
    "That will return the index number we need to delete. Putting it all together we get:"
   ]
  },
  {
   "cell_type": "code",
   "execution_count": null,
   "metadata": {},
   "outputs": [],
   "source": [
    "df = df.drop(df[df.Name == \"Canada\"].index)\n",
    "df"
   ]
  },
  {
   "attachments": {},
   "cell_type": "markdown",
   "metadata": {},
   "source": [
    "## Data Sorting\n",
    "\n",
    "We need to sort the data by the way we want to plot it. In our first case, we want to sort it by population, which is the `'Population_2021'` column."
   ]
  },
  {
   "cell_type": "code",
   "execution_count": null,
   "metadata": {},
   "outputs": [],
   "source": [
    "df.sort_values(by='Population_2021')"
   ]
  },
  {
   "attachments": {},
   "cell_type": "markdown",
   "metadata": {},
   "source": [
    "That doesn't look right, though, it seems to be sorting alphabetically rather than numerically. When we imported the data the first row didn't contain numbers, so the data type needs to be converted to numeric."
   ]
  },
  {
   "cell_type": "code",
   "execution_count": null,
   "metadata": {},
   "outputs": [],
   "source": [
    "df['Population_2021'] = pd.to_numeric(df['Population_2021'])\n",
    "df.sort_values(by='Population_2021')"
   ]
  },
  {
   "attachments": {},
   "cell_type": "markdown",
   "metadata": {},
   "source": [
    "We should probably try converting all of the columns in the dataframe to numbers, if possible. The code cell below will `try` to convert to numeric, but if there's an error it will just pass on to the next column."
   ]
  },
  {
   "cell_type": "code",
   "execution_count": null,
   "metadata": {},
   "outputs": [],
   "source": [
    "for column in df.columns:\n",
    "    try:\n",
    "        df[column] = pd.to_numeric(df[column])\n",
    "    except:\n",
    "        pass\n",
    "df"
   ]
  },
  {
   "attachments": {},
   "cell_type": "markdown",
   "metadata": {},
   "source": [
    "You will notice that the dataframe is still in the original order, since we didn't assign the result back to our `df` variable when we sorted by `'Population_2021'`.\n",
    "\n",
    "We can sort it by other columns, and try sorting in the opposite order by using `ascending=False`."
   ]
  },
  {
   "cell_type": "code",
   "execution_count": null,
   "metadata": {},
   "outputs": [],
   "source": [
    "df.sort_values(by='Population_density_per_km2', ascending=False)"
   ]
  },
  {
   "attachments": {},
   "cell_type": "markdown",
   "metadata": {},
   "source": [
    "## Data Visualization\n",
    "\n",
    "### Populations\n",
    "\n",
    "We will use [Plotly Express](https://plotly.com/python/plotly-express) to create visualizations of our data."
   ]
  },
  {
   "cell_type": "code",
   "execution_count": null,
   "metadata": {},
   "outputs": [],
   "source": [
    "import plotly.express as px\n",
    "px.bar(df, x='Name', y='Population_2021')"
   ]
  },
  {
   "attachments": {},
   "cell_type": "markdown",
   "metadata": {},
   "source": [
    "We can also add some more options to make it nicer."
   ]
  },
  {
   "cell_type": "code",
   "execution_count": null,
   "metadata": {},
   "outputs": [],
   "source": [
    "px.bar(df, x='Name', y='Population_2021', title='Populations of Provinces and Territories (2021)', height=800).update_yaxes(title='Population')"
   ]
  },
  {
   "attachments": {},
   "cell_type": "markdown",
   "metadata": {},
   "source": [
    "### Population Densities\n",
    "\n",
    "Let's try a bar plot of `'Population_density_per_km2'`."
   ]
  },
  {
   "cell_type": "code",
   "execution_count": null,
   "metadata": {},
   "outputs": [],
   "source": [
    "df1 = df.sort_values(by='Population_density_per_km2', ascending=False)\n",
    "px.bar(df1, x='Name', y='Population_density_per_km2', title='Population Density of Provinces and Territories (2021)').update_yaxes(title='Population Density (per km^2)')"
   ]
  },
  {
   "attachments": {},
   "cell_type": "markdown",
   "metadata": {},
   "source": [
    "## Pie Chart\n",
    "\n",
    "A pie chart can show the proportions of the Canadian population that live in each province or territory."
   ]
  },
  {
   "cell_type": "code",
   "execution_count": null,
   "metadata": {},
   "outputs": [],
   "source": [
    "px.pie(df, values='Population_2021', names='Name', title='Population Proportion of Provinces and Territories (2021)')"
   ]
  },
  {
   "attachments": {},
   "cell_type": "markdown",
   "metadata": {},
   "source": [
    "## Conclusion\n",
    "\n",
    "In this project we used data from a [Wikipedia page](https://en.wikipedia.org/wiki/Population_of_Canada_by_province_and_territory) to look at Canadian population by province or territory and population density by province or territory.\n",
    "\n",
    "In the future it would be interesting to explore other data in this dataset, such as Commons house seats and Senate seats."
   ]
  }
 ],
 "metadata": {
  "kernelspec": {
   "display_name": "Python 3",
   "language": "python",
   "name": "python3"
  },
  "language_info": {
   "codemirror_mode": {
    "name": "ipython",
    "version": 3
   },
   "file_extension": ".py",
   "mimetype": "text/x-python",
   "name": "python",
   "nbconvert_exporter": "python",
   "pygments_lexer": "ipython3",
   "version": "3.10.4"
  },
  "orig_nbformat": 4
 },
 "nbformat": 4,
 "nbformat_minor": 2
}
