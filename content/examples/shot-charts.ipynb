{
 "cells": [
  {
   "attachments": {},
   "cell_type": "markdown",
   "metadata": {},
   "source": [
    "# Shot Charts\n"
   ]
  },
  {
   "cell_type": "code",
   "execution_count": null,
   "metadata": {},
   "outputs": [],
   "source": [
    "from nba_api.stats.endpoints import shotchartdetail\n",
    "from nba_api.stats.static import teams\n",
    "team_name = 'Toronto Raptors'\n",
    "team = teams.find_teams_by_full_name(team_name)[0]\n",
    "team_id = team['id']\n",
    "season = '2022-23'\n",
    "season_type = 'Regular Season'\n",
    "#all_raptors_shots = shotchartdetail.ShotChartDetail(team_id=team_id, player_id=0, season_nullable=season, season_type_all_star=season_type, context_measure_simple='FGA') # FGA = Field Goal Attempts, PTS = Points\n",
    "all_raptors_shots = shotchartdetail.ShotChartDetail(team_id=team_id, player_id=0, season_nullable=season, context_measure_simple='FGA')\n",
    "raptors_shots = all_raptors_shots.get_data_frames()[0]\n",
    "raptors_shots"
   ]
  },
  {
   "cell_type": "code",
   "execution_count": null,
   "metadata": {},
   "outputs": [],
   "source": [
    "# list teams\n",
    "from nba_api.stats.static import teams\n",
    "teams = teams.get_teams()\n",
    "for team in teams:\n",
    "    team_name = team['full_name']\n",
    "    team_id = team['id']\n",
    "    print(f'{team_name} - {team_id}')"
   ]
  },
  {
   "cell_type": "code",
   "execution_count": null,
   "metadata": {},
   "outputs": [],
   "source": [
    "from nba_api.stats.endpoints import shotchartdetail\n",
    "from nba_api.stats.static import teams\n",
    "import pandas as pd\n",
    "\n",
    "seasons = []\n",
    "def stringify_this(x):\n",
    "    if x < 10:\n",
    "        x = '0'+str(x)\n",
    "    else:\n",
    "        x = str(x)\n",
    "    return x\n",
    "for x in range(2, 23):\n",
    "    y = x+1\n",
    "    season = f'20{stringify_this(x)}-{stringify_this(y)}'\n",
    "    seasons.append(season)\n",
    "\n",
    "def get_shots(team_id, season):\n",
    "    df = shotchartdetail.ShotChartDetail(team_id=team_id, player_id=0, season_nullable=season, context_measure_simple='FGA').get_data_frames()[0]\n",
    "    df['SEASON'] = season\n",
    "    df['SHOT_MADE'] = df['SHOT_MADE_FLAG'].astype('bool')\n",
    "    return df\n",
    "\n",
    "#df = get_shots(1610612761, '2022-23')\n",
    "\n",
    "team_id = 1610612761\n",
    "shots = pd.DataFrame()\n",
    "for season in seasons:\n",
    "    print(season)\n",
    "    season_shots = get_shots(team_id, season)\n",
    "    shots = pd.concat([shots, season_shots])\n",
    "shots"
   ]
  },
  {
   "cell_type": "code",
   "execution_count": null,
   "metadata": {},
   "outputs": [],
   "source": [
    "import plotly.express as px\n",
    "#px.scatter(shots, x='LOC_X', y='LOC_Y', color='SHOT_MADE', height=800, animation_frame='SEASON').update_yaxes(range=[0,400])\n",
    "px.scatter(shots, x='LOC_X', y='LOC_Y', color='SHOT_MADE', height=800, animation_frame='SEASON', range_x=[-250,250], range_y=[0,300])"
   ]
  }
 ],
 "metadata": {
  "kernelspec": {
   "display_name": "Python 3",
   "language": "python",
   "name": "python3"
  },
  "language_info": {
   "codemirror_mode": {
    "name": "ipython",
    "version": 3
   },
   "file_extension": ".py",
   "mimetype": "text/x-python",
   "name": "python",
   "nbconvert_exporter": "python",
   "pygments_lexer": "ipython3",
   "version": "3.11.2"
  },
  "orig_nbformat": 4
 },
 "nbformat": 4,
 "nbformat_minor": 2
}
