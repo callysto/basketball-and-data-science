{
 "cells": [
  {
   "cell_type": "markdown",
   "metadata": {},
   "source": [
    "# WNBA Data Scraping\n",
    "\n",
    "We are going to get player data from the website [stats.wnba.com](https://stats.wnba.com).\n",
    "\n"
   ]
  },
  {
   "cell_type": "code",
   "execution_count": null,
   "metadata": {},
   "outputs": [],
   "source": [
    "from selenium import webdriver\n",
    "import pandas as pd\n",
    "import os\n",
    "\n",
    "teams = {\n",
    "    'Atlanta Dream':1611661330,\n",
    "    'Chicago Sky':1611661329,\n",
    "    'Connecticut Sun':1611661323,\n",
    "    'Indiana Fever':1611661325,\n",
    "    'New York Liberty':1611661313,\n",
    "    'Washington Mystics':1611661322,\n",
    "    'Dallas Wings':1611661321,\n",
    "    'Las Vegas Aces':1611661319,\n",
    "    'Los Angeles Sparks':1611661320,\n",
    "    'Minnesota Lynx':1611661324,\n",
    "    'Phoenix Mercury':1611661317,\n",
    "    'Seattle Storm':1611661328 }\n",
    "\n",
    "old_teams = {\n",
    "    'Cleveland Rockers':1611661315,\n",
    "    'Charlotte Sting':1611661314,\n",
    "    'Houston Comets':1611661316,\n",
    "    'Sacramento Monarchs':1611661318,\n",
    "    'Miami Sol':1611661326,\n",
    "    'Portland Fire':1611661327}\n",
    "\n",
    "all_teams = {**teams, **old_teams}\n",
    "\n",
    "#url = 'https://stats.wnba.com/team/1611661319/players-scoring/?Season=2023'\n",
    "\n",
    "driver = webdriver.Chrome()\n",
    "\n",
    "#season = 2023\n",
    "for season in range(1997, 2024):\n",
    "    #for team, id in teams.items():\n",
    "    #for team, id in old_teams.items():\n",
    "    for team, id in all_teams.items():\n",
    "        # check if file exists\n",
    "        if os.path.isfile(f'data/{team} - {season}.csv'):\n",
    "            pass\n",
    "        else:\n",
    "            print(season, team)\n",
    "            try:\n",
    "                url = f'https://stats.wnba.com/team/{id}/players-scoring/?Season={season}'\n",
    "                driver.get(url)\n",
    "                tables = driver.find_elements('xpath', \"//table\")\n",
    "                #df = pd.read_html(tables[3].get_attribute('outerHTML'))[0]\n",
    "                for table in tables:\n",
    "                    df = pd.read_html(table.get_attribute('outerHTML'))[0]\n",
    "                    if df.columns[0] == 'Players' and df.columns[1] == 'GP':\n",
    "                        df['TEAM'] = team\n",
    "                        df['SEASON'] = season\n",
    "                        df.to_csv(f'data/{team} - {season}.csv', index=False)\n",
    "                        break\n",
    "            except:\n",
    "                print('Error')\n",
    "\n",
    "driver.quit()"
   ]
  },
  {
   "cell_type": "code",
   "execution_count": null,
   "metadata": {},
   "outputs": [],
   "source": [
    "# join all the csv files into one dataframe\n",
    "import os\n",
    "import pandas as pd\n",
    "df_all = pd.DataFrame()\n",
    "for file in os.listdir('data'):\n",
    "    if file.endswith('.csv'):\n",
    "        df = pd.read_csv(f'data/{file}')\n",
    "        df_all = pd.concat([df_all, df])\n",
    "# rename the Players column\n",
    "df_all.rename(columns={'Players':'PLAYER'}, inplace=True)\n",
    "# add a column for Team ID\n",
    "df_all['TEAM_ID'] = df_all['TEAM'].map(all_teams)\n",
    "df_all.to_csv('data/wnba.csv', index=False)"
   ]
  },
  {
   "cell_type": "code",
   "execution_count": null,
   "metadata": {},
   "outputs": [],
   "source": []
  }
 ],
 "metadata": {
  "kernelspec": {
   "display_name": "Python 3",
   "language": "python",
   "name": "python3"
  },
  "language_info": {
   "codemirror_mode": {
    "name": "ipython",
    "version": 3
   },
   "file_extension": ".py",
   "mimetype": "text/x-python",
   "name": "python",
   "nbconvert_exporter": "python",
   "pygments_lexer": "ipython3",
   "version": "3.11.2"
  },
  "orig_nbformat": 4
 },
 "nbformat": 4,
 "nbformat_minor": 2
}
