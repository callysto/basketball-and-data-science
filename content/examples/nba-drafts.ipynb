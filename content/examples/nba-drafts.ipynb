{
 "cells": [
  {
   "cell_type": "code",
   "execution_count": null,
   "metadata": {},
   "outputs": [],
   "source": [
    "!pip install nba_api"
   ]
  },
  {
   "cell_type": "code",
   "execution_count": null,
   "metadata": {},
   "outputs": [],
   "source": [
    "import pandas as pd\n",
    "import plotly.express as px\n",
    "from nba_api.stats.endpoints import drafthistory"
   ]
  },
  {
   "attachments": {},
   "cell_type": "markdown",
   "metadata": {},
   "source": [
    "# Importing the Data\n",
    "\n",
    "Let's import the draft information into a dataset so that we can analyze and understand it better. We will be using the nba_api \"drafthistory\" library to get this information. \n",
    "\n",
    "\n",
    "From this endpoint we'll be able to get the following information:\n",
    " - Player name\n",
    " - Draft Year\n",
    " - Pick Number\n",
    " - Team that drafted them\n",
    " - College/Organization they come from"
   ]
  },
  {
   "cell_type": "code",
   "execution_count": null,
   "metadata": {},
   "outputs": [],
   "source": [
    "drafts = drafthistory.DraftHistory().get_data_frames()[0]\n",
    "drafts"
   ]
  },
  {
   "attachments": {},
   "cell_type": "markdown",
   "metadata": {},
   "source": [
    "The dataframe splits the Team name and city into 2 separate columns. Let's combine these two columns into a new column, which will help better communicate what team drafted them."
   ]
  },
  {
   "cell_type": "code",
   "execution_count": null,
   "metadata": {},
   "outputs": [],
   "source": [
    "drafts['TEAM'] = drafts['TEAM_CITY'] + ' ' + drafts['TEAM_NAME']\n",
    "drafts"
   ]
  },
  {
   "attachments": {},
   "cell_type": "markdown",
   "metadata": {},
   "source": [
    "Let's take a look at the different colleges that drafted players come from. This will help give a better understanding of what colleges are the best when it comes to developing NBA talent. \n",
    "\n",
    "To do this we can group together rows by their 'ORGANIZATION' and count how many rows are in each group (this will be how many players got drafted from that organization).\n",
    "\n",
    "Then we can plot the top 10 colleges that players come from in a bar chart."
   ]
  },
  {
   "cell_type": "code",
   "execution_count": null,
   "metadata": {},
   "outputs": [],
   "source": [
    "college_drafted = drafts.groupby('ORGANIZATION')['SEASON'].count().reset_index(name='DRAFTED PLAYERS')\n",
    "college_drafted.sort_values('DRAFTED PLAYERS',ascending=False,inplace=True)\n",
    "\n",
    "fig = px.bar(college_drafted[:10],x='ORGANIZATION',y='DRAFTED PLAYERS',title='Number of players drafted from each college')\n",
    "\n",
    "fig.show()\n"
   ]
  },
  {
   "attachments": {},
   "cell_type": "markdown",
   "metadata": {},
   "source": [
    "Let's also look at how many first overall picks each team has had in the history of the NBA. To do this, we'll only keep rows where the player was drafted 1st overall."
   ]
  },
  {
   "cell_type": "code",
   "execution_count": null,
   "metadata": {},
   "outputs": [],
   "source": [
    "first_pick = drafts[drafts['OVERALL_PICK'] == 1]\n",
    "first_pick"
   ]
  },
  {
   "attachments": {},
   "cell_type": "markdown",
   "metadata": {},
   "source": [
    "Next, we'll group the rows by 'TEAM' and count how many 1st overall picks each team has had."
   ]
  },
  {
   "cell_type": "code",
   "execution_count": null,
   "metadata": {},
   "outputs": [],
   "source": [
    "team_most_first_pick = first_pick.groupby('TEAM')['OVERALL_PICK'].count().reset_index(name='NUMBER OF FIRST OVERALL')\n",
    "team_most_first_pick.sort_values('NUMBER OF FIRST OVERALL',ascending=False,inplace=True)\n",
    "team_most_first_pick"
   ]
  },
  {
   "attachments": {},
   "cell_type": "markdown",
   "metadata": {},
   "source": [
    "I also wanted to see how many picks Toronto has had through the years.\n",
    "\n",
    "To do this, I only kept rows where the drafted player was picked by Toronto and selected the Season, Round # and pick for the columns I wanted to keep."
   ]
  },
  {
   "cell_type": "code",
   "execution_count": null,
   "metadata": {},
   "outputs": [],
   "source": [
    "only_raptors = drafts[drafts['TEAM_ABBREVIATION'] == 'TOR'][['SEASON','ROUND_NUMBER','ROUND_PICK']]\n",
    "\n",
    "only_raptors"
   ]
  },
  {
   "attachments": {},
   "cell_type": "markdown",
   "metadata": {},
   "source": [
    "Next, I grouped the number of picks by each season and counted how many picks Toronto had each year.\n",
    "\n",
    "I then graphed this as a line graph to see how this changes based on the year."
   ]
  },
  {
   "cell_type": "code",
   "execution_count": null,
   "metadata": {},
   "outputs": [],
   "source": [
    "year_picks = only_raptors.groupby('SEASON')['ROUND_NUMBER'].count().reset_index(name='Number of Picks')\n",
    "\n",
    "fig = px.line(year_picks,x='SEASON',y='Number of Picks',title='Number of picks the Toronto Raptors had each year from 1995 - 2021')\n",
    "fig.show()"
   ]
  }
 ],
 "metadata": {
  "kernelspec": {
   "display_name": "Python 3",
   "language": "python",
   "name": "python3"
  },
  "language_info": {
   "codemirror_mode": {
    "name": "ipython",
    "version": 3
   },
   "file_extension": ".py",
   "mimetype": "text/x-python",
   "name": "python",
   "nbconvert_exporter": "python",
   "pygments_lexer": "ipython3",
   "version": "3.11.3"
  },
  "orig_nbformat": 4
 },
 "nbformat": 4,
 "nbformat_minor": 2
}
