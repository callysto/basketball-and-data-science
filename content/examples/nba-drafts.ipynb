{
 "cells": [
  {
   "cell_type": "code",
   "execution_count": null,
   "metadata": {},
   "outputs": [],
   "source": [
    "!pip install nba_api"
   ]
  },
  {
   "cell_type": "code",
   "execution_count": null,
   "metadata": {},
   "outputs": [],
   "source": [
    "import pandas as pd\n",
    "import plotly.express as px\n",
    "from nba_api.stats.endpoints import drafthistory"
   ]
  },
  {
   "cell_type": "code",
   "execution_count": null,
   "metadata": {},
   "outputs": [],
   "source": [
    "drafts = drafthistory.DraftHistory().get_data_frames()[0]\n",
    "drafts"
   ]
  },
  {
   "cell_type": "code",
   "execution_count": null,
   "metadata": {},
   "outputs": [],
   "source": [
    "drafts['TEAM'] = drafts['TEAM_CITY'] + ' ' + drafts['TEAM_NAME']\n",
    "drafts"
   ]
  },
  {
   "cell_type": "code",
   "execution_count": null,
   "metadata": {},
   "outputs": [],
   "source": [
    "college_drafted = drafts.groupby('ORGANIZATION')['SEASON'].count().reset_index(name='DRAFTED PLAYERS')\n",
    "college_drafted.sort_values('DRAFTED PLAYERS',ascending=False,inplace=True)\n",
    "\n",
    "fig = px.bar(college_drafted[:10],x='ORGANIZATION',y='DRAFTED PLAYERS',title='Number of players drafted from each college')\n",
    "\n",
    "fig.show()\n"
   ]
  },
  {
   "cell_type": "code",
   "execution_count": null,
   "metadata": {},
   "outputs": [],
   "source": [
    "first_pick = drafts[drafts['OVERALL_PICK'] == 1]\n",
    "first_pick"
   ]
  },
  {
   "cell_type": "code",
   "execution_count": null,
   "metadata": {},
   "outputs": [],
   "source": [
    "team_most_first_pick = first_pick.groupby('TEAM')['OVERALL_PICK'].count().reset_index(name='NUMBER OF FIRST OVERALL')\n",
    "team_most_first_pick.sort_values('NUMBER OF FIRST OVERALL',ascending=False,inplace=True)\n",
    "team_most_first_pick"
   ]
  },
  {
   "cell_type": "code",
   "execution_count": null,
   "metadata": {},
   "outputs": [],
   "source": [
    "only_raptors = drafts[drafts['TEAM_ABBREVIATION'] == 'TOR'][['SEASON','ROUND_NUMBER','ROUND_PICK']]\n",
    "\n",
    "only_raptors"
   ]
  },
  {
   "cell_type": "code",
   "execution_count": null,
   "metadata": {},
   "outputs": [],
   "source": [
    "year_picks = only_raptors.groupby('SEASON')['ROUND_NUMBER'].count().reset_index(name='Number of Picks')\n",
    "\n",
    "fig = px.line(year_picks,x='SEASON',y='Number of Picks',title='Number of picks the Toronto Raptors had each year from 1995 - 2021')\n",
    "fig.show()"
   ]
  }
 ],
 "metadata": {
  "kernelspec": {
   "display_name": "Python 3",
   "language": "python",
   "name": "python3"
  },
  "language_info": {
   "codemirror_mode": {
    "name": "ipython",
    "version": 3
   },
   "file_extension": ".py",
   "mimetype": "text/x-python",
   "name": "python",
   "nbconvert_exporter": "python",
   "pygments_lexer": "ipython3",
   "version": "3.11.3"
  },
  "orig_nbformat": 4
 },
 "nbformat": 4,
 "nbformat_minor": 2
}
