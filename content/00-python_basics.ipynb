{
 "cells": [
  {
   "attachments": {},
   "cell_type": "markdown",
   "metadata": {},
   "source": [
    "![Callysto.ca Banner](https://github.com/callysto/curriculum-notebooks/blob/master/callysto-notebook-banner-top.jpg?raw=true)"
   ]
  },
  {
   "attachments": {},
   "cell_type": "markdown",
   "metadata": {},
   "source": [
    "# Introduction to Python Programming\n",
    "\n",
    "This notebook is an optional notebook for people who want to familiarize themselves with basic Python or are in need of a refresher. Specifically, we will be exploring *variables*, *basic syntax*, *conditional statements*, *loops*, and more.\n"
   ]
  },
  {
   "attachments": {},
   "cell_type": "markdown",
   "metadata": {},
   "source": [
    "# What is Python?\n",
    "\n",
    "Python is a high-level, interpreted programming language known for its simplicity and readability. It has a wide range of applications and is popular in various domains, including web development, data analysis, machine learning, and more. Python emphasizes code readability, making it easy to understand and write.\n",
    "\n",
    " Throughout this notebook, if you'd like to learn about a particular Python concept more in depth, refer to Python's [documentation](https://docs.python.org/3/)."
   ]
  },
  {
   "attachments": {},
   "cell_type": "markdown",
   "metadata": {},
   "source": [
    "# Variables and Data Types"
   ]
  },
  {
   "attachments": {},
   "cell_type": "markdown",
   "metadata": {},
   "source": [
    "In Python, variables are used to store and manipulate data values. They can hold different types of data, and their values can be changed throughout the program. Unlike some other programming languages, Python does not require explicit variable declaration. You can assign a value to a variable on the fly."
   ]
  },
  {
   "attachments": {},
   "cell_type": "markdown",
   "metadata": {},
   "source": [
    "### Assigning Values to Variables\n",
    "\n",
    "You can assign values to variables using the assignment operator (`=`).\n"
   ]
  },
  {
   "cell_type": "code",
   "execution_count": null,
   "metadata": {},
   "outputs": [],
   "source": [
    "# Assigning values to variables\n",
    "\n",
    "name = \"John\"  # String data type\n",
    "age = 25  # Integer data type\n",
    "salary = 2500.50  # Float data type\n",
    "is_student = True  # Boolean data type\n",
    "print(name, age, salary, is_student)"
   ]
  },
  {
   "cell_type": "code",
   "execution_count": null,
   "metadata": {},
   "outputs": [],
   "source": [
    "# What do you think is output of the following print statements?\n",
    "# Note: \"==\" is a comparison operator where it checks whether the left-side value is equal to the right-side value\n",
    "print(\"42\" == '42')\n",
    "print('42' == 42)\n",
    "print(42 == 41)\n",
    "print('fourty-two' == \"fourty-two\")"
   ]
  },
  {
   "attachments": {},
   "cell_type": "markdown",
   "metadata": {},
   "source": [
    "### Variable Naming Rules\n",
    "When naming variables, you need to follow certain rules:\n",
    "\n",
    "- Variable names are case-sensitive (**age** and **Age** are different variables)\n",
    "- Variable names can contain letters (a-z, A-Z), digits (0-9), and underscores (_)\n",
    "- Variable names cannot start with a digit\n",
    "- Variable names should be descriptive and follow a naming convention (e.g., num_students instead of n)"
   ]
  },
  {
   "attachments": {},
   "cell_type": "markdown",
   "metadata": {},
   "source": [
    "### Common Data Types\n",
    "Python supports various data types, including:\n",
    "\n",
    "**Numeric Types**\n",
    "- Integer: Represents whole numbers (e.g., 5, -10, 0).\n",
    "- Float: Represents real numbers with decimal points (e.g., 3.14, -2.5, 0.0).\n",
    "  \n",
    "**Strings**\n",
    "- String: Represents a sequence of characters enclosed in quotes (e.g., \"Hello, World!\", 'Python', \"42\").\n",
    "  \n",
    "**Booleans**\n",
    "- Boolean: Represents the truth values True or False.\n",
    "  \n",
    "**Collections**\n",
    "- List: Represents an ordered collection of items (e.g., [1, 2, 3], ['apple', 'banana', 'cherry']).\n",
    "- Tuple: Represents an ordered, immutable collection of items (e.g., (1, 2, 3), ('red', 'green', 'blue')).\n",
    "- Dictionary: Represents a collection of key-value pairs (e.g., {'name': 'John', 'age': 25, 'city': 'London'})."
   ]
  },
  {
   "attachments": {},
   "cell_type": "markdown",
   "metadata": {},
   "source": [
    "### Examples\n",
    "\n",
    "Here are some examples of variable assignments with different data types:"
   ]
  },
  {
   "cell_type": "code",
   "execution_count": null,
   "metadata": {},
   "outputs": [],
   "source": [
    "# Numeric Types\n",
    "\n",
    "students_count = 50 # Integer\n",
    "temperature = 25.5 # Float\n",
    "print(students_count, temperature)\n",
    "\n",
    "# Strings\n",
    "greeting = \"Hello\" # String with \"\"\n",
    "name = ' John' # String with ''\n",
    "print(greeting, name)\n",
    "\n",
    "# Booleans\n",
    "is_raining = True \n",
    "is_sunny = False\n",
    "\n",
    "# Lists\n",
    "numbers = [1, 2, 3, 4, 5] # Contains Integers\n",
    "fruits = ['apple', 'banana', 'cherry'] # Contains Strings\n",
    "numbers_and_fruits = numbers + fruits\n",
    "print(numbers_and_fruits)\n",
    "\n",
    "# Tuples\n",
    "coordinates = (10, 20)\n",
    "colors = ('red', 'green', 'blue')\n",
    "print(coordinates, colors)\n",
    "\n",
    "# Dictionaries\n",
    "person = {'name': 'John', 'age': 25, 'city': 'London'}\n",
    "print(person['name'], person['age'], person['city'])"
   ]
  },
  {
   "attachments": {},
   "cell_type": "markdown",
   "metadata": {},
   "source": [
    "Remember, you can change the value of a variable at any point in your program by assigning a new value to it. Python automatically determines the appropriate data type based on the assigned value. Understanding data types and working with variables is essential for performing various operations and manipulating data effectively in Python."
   ]
  },
  {
   "attachments": {},
   "cell_type": "markdown",
   "metadata": {},
   "source": [
    "# Control Flow and Decision-Making\n",
    "\n",
    "In programming, control flow allows you to determine the order in which statements are executed. It enables you to make decisions based on conditions and repeat certain actions multiple times. Let's explore some important concepts in control flow."
   ]
  },
  {
   "attachments": {},
   "cell_type": "markdown",
   "metadata": {},
   "source": [
    "### Conditional Statements (if-else)\n",
    "\n",
    "Conditional statements are used to make decisions based on certain conditions. The most common conditional statement is the if statement, which executes a block of code `if` a specific condition is true. Optionally, a `else` statement can be used to specify a block of code to execute when the condition is false."
   ]
  },
  {
   "cell_type": "code",
   "execution_count": null,
   "metadata": {},
   "outputs": [],
   "source": [
    "is_sunny = True \n",
    "\n",
    "# Checks if is_sunny is True\n",
    "if is_sunny:\n",
    "    print('It\\'s sunny')\n",
    "else:\n",
    "    print('It\\'s raining')\n",
    "\n",
    "# Checks if is_sunny is not True (False)\n",
    "if not is_sunny:\n",
    "    print('It\\'s sunny')\n",
    "else:\n",
    "    print('It\\'s raining')"
   ]
  },
  {
   "attachments": {},
   "cell_type": "markdown",
   "metadata": {},
   "source": [
    "### elif Statements\n",
    "\n",
    "The elif statement is used to specify additional conditions to be checked if the preceding conditions are false."
   ]
  },
  {
   "cell_type": "code",
   "execution_count": null,
   "metadata": {},
   "outputs": [],
   "source": [
    "animal = 'cat'\n",
    "\n",
    "if animal == 'dog':\n",
    "    print(\"Woof!\")\n",
    "\n",
    "elif animal == 'cat':\n",
    "    print(\"Meow...\")\n",
    "    \n",
    "else:\n",
    "    print(\"It's not an animal\")"
   ]
  },
  {
   "attachments": {},
   "cell_type": "markdown",
   "metadata": {},
   "source": [
    "### Comparison Operators\n",
    "Comparison operators are used to evaluate conditions in conditional statements. They include:\n",
    "\n",
    "- == (equal to)\n",
    "- != (not equal to)\n",
    "- < (less than)\n",
    "- \\> (greater than)\n",
    "- <= (less than or equal to)\n",
    "- \\>= (greater than or equal to)\n",
    "  \n",
    "### Logical Operators\n",
    "Logical operators allow you to combine multiple conditions in conditional statements. The three main logical operators are:\n",
    "\n",
    "- and (logical AND)\n",
    "- or (logical OR)\n",
    "- not (logical NOT)"
   ]
  },
  {
   "cell_type": "code",
   "execution_count": null,
   "metadata": {},
   "outputs": [],
   "source": [
    "# Comparison Operators\n",
    "x = 10\n",
    "y = 9\n",
    "\n",
    "# Equal to (==)\n",
    "print(x == y)  \n",
    "\n",
    "# Not equal to (!=)\n",
    "print(x != y)  \n",
    "\n",
    "# Less than (<)\n",
    "print(x < y)   \n",
    "\n",
    "# Greater than (>)\n",
    "print(x > y)   \n",
    "\n",
    "# Less than or equal to (<=)\n",
    "print(x <= y)  \n",
    "\n",
    "# Greater than or equal to (>=)\n",
    "print(x >= y)         "
   ]
  },
  {
   "cell_type": "code",
   "execution_count": null,
   "metadata": {},
   "outputs": [],
   "source": [
    "# Logical Operators\n",
    "is_raining = True\n",
    "is_sunny = False\n",
    "\n",
    "# Logical AND (and)\n",
    "print(is_raining and is_sunny)  \n",
    "\n",
    "# Logical OR (or)\n",
    "print(is_raining or is_sunny)   \n",
    "\n",
    "# Logical NOT (not)\n",
    "print(not is_raining)           \n",
    "print(not is_sunny)    "
   ]
  },
  {
   "attachments": {},
   "cell_type": "markdown",
   "metadata": {},
   "source": [
    "# Iteration in Python: Repeating Code Blocks"
   ]
  },
  {
   "attachments": {},
   "cell_type": "markdown",
   "metadata": {},
   "source": [
    "Loops are powerful constructs that allow you to repeat a block of code multiple times. In Python, there are two commonly used loop types: `'for'` and `'while'`. They provide different approaches to iterate over elements or execute code repeatedly. Let's explore both types of loops with examples:\n",
    "\n",
    "### `for` Loop\n",
    "The `for` loop is used to iterate over a sequence (such as a list, string, or range) and perform a specific action for each element. It provides a convenient way to execute code for a known number of iterations."
   ]
  },
  {
   "cell_type": "code",
   "execution_count": null,
   "metadata": {},
   "outputs": [],
   "source": [
    "# Example of a for loop\n",
    "fruits = ['apple', 'banana', 'cherry']\n",
    "\n",
    "for fruit in fruits:\n",
    "    print(fruit)"
   ]
  },
  {
   "attachments": {},
   "cell_type": "markdown",
   "metadata": {},
   "source": [
    "In this example, the for loop iterates over each element in the fruits list. The loop variable fruit takes the value of each element in succession, and the block of code inside the loop (indicated by indentation) is executed. In this case, it prints each fruit on a new line."
   ]
  },
  {
   "attachments": {},
   "cell_type": "markdown",
   "metadata": {},
   "source": [
    "### Looping Through a Range\n",
    "\n",
    "You can also use the range() function with for loops to iterate over a sequence of numbers."
   ]
  },
  {
   "cell_type": "code",
   "execution_count": null,
   "metadata": {},
   "outputs": [],
   "source": [
    "# Example of looping through a range\n",
    "for i in range(1, 6):\n",
    "    print(i)"
   ]
  },
  {
   "attachments": {},
   "cell_type": "markdown",
   "metadata": {},
   "source": [
    "In this example, the *range(1, 6)* function generates a sequence of numbers from 1 to 5 (inclusive). The for loop iterates over each number in the sequence, and the value is assigned to the loop variable i. The code block inside the loop is executed, printing each number on a new line."
   ]
  },
  {
   "attachments": {},
   "cell_type": "markdown",
   "metadata": {},
   "source": [
    "### `while` Loop\n",
    "\n",
    "The `while` loop is used to repeatedly execute a block of code as long as a specific condition remains true. It allows you to iterate until a certain condition is met or until a break statement is encountered."
   ]
  },
  {
   "cell_type": "code",
   "execution_count": null,
   "metadata": {},
   "outputs": [],
   "source": [
    "# Example of a while loop\n",
    "count = 0\n",
    "\n",
    "while count < 5:\n",
    "    print(count)\n",
    "    count += 1"
   ]
  },
  {
   "attachments": {},
   "cell_type": "markdown",
   "metadata": {},
   "source": [
    "In this example, the `while` loop continues executing as long as the condition *count < 5* is true. The loop starts with count equal to 0. Inside the loop, it prints the current value of count, and then increments count by 1 (count += 1). This process continues until count reaches 5, at which point the condition becomes false, and the loop terminates.\n",
    "\n",
    "### Using break and continue Statements\n",
    "You can use the break statement to exit a loop prematurely, regardless of the condition."
   ]
  },
  {
   "cell_type": "code",
   "execution_count": null,
   "metadata": {},
   "outputs": [],
   "source": [
    "# Example of using a break statement\n",
    "count = 0\n",
    "\n",
    "while True:\n",
    "    print(count)\n",
    "    count += 1\n",
    "    \n",
    "    if count == 5:\n",
    "        print(\"Stop the loop!\")\n",
    "        break"
   ]
  },
  {
   "attachments": {},
   "cell_type": "markdown",
   "metadata": {},
   "source": [
    "In this example, the `while` loop continues *indefinitely* (while True). Inside the loop, it prints the current value of count and increments it. However, when count reaches 5, the if statement is true, and the break statement is executed. This causes the loop to terminate immediately.\n",
    "\n",
    "You can use the continue statement to *skip* the rest of the current iteration and move to the next iteration of the loop."
   ]
  },
  {
   "cell_type": "code",
   "execution_count": null,
   "metadata": {},
   "outputs": [],
   "source": [
    "# Example of using a continue statement\n",
    "count = 0\n",
    "\n",
    "while count < 5:\n",
    "    count += 1\n",
    "    \n",
    "    if count == 3:\n",
    "        continue\n",
    "        \n",
    "    print(count)"
   ]
  },
  {
   "attachments": {},
   "cell_type": "markdown",
   "metadata": {},
   "source": [
    "In this example, when *count equals 3*, the `continue` statement is encountered. This skips the rest of the code block inside the loop for that iteration and moves on to the next iteration. As a result, the number 3 is not printed."
   ]
  },
  {
   "attachments": {},
   "cell_type": "markdown",
   "metadata": {},
   "source": [
    "# Conclusion"
   ]
  },
  {
   "attachments": {},
   "cell_type": "markdown",
   "metadata": {},
   "source": [
    "Congratulations! You have completed this optional notebook to Python programming. Throughout this notebook, we covered fundamental concepts and syntax, including variables, basic data types, comparison and logical operators, loops, and basic coding practices. By mastering these concepts, you have gained a solid foundation in Python programming.\n",
    "\n",
    "Remember, practice is key to becoming proficient in any programming language. Keep coding at home, experiment with different examples, and challenge yourself with various coding exercises and projects. Here are some useful Python videos to consider watching to continue improving over time:\n",
    "\n",
    "- [Programming with Mosh - Python Tutorial](https://www.youtube.com/watch?v=kqtD5dpn9C8)\n",
    "- [Tech with Tim - Python Projects](https://www.youtube.com/watch?v=DLn3jOsNRVE)"
   ]
  }
 ],
 "metadata": {
  "kernelspec": {
   "display_name": "Python 3",
   "language": "python",
   "name": "python3"
  },
  "language_info": {
   "codemirror_mode": {
    "name": "ipython",
    "version": 3
   },
   "file_extension": ".py",
   "mimetype": "text/x-python",
   "name": "python",
   "nbconvert_exporter": "python",
   "pygments_lexer": "ipython3",
   "version": "3.11.4"
  }
 },
 "nbformat": 4,
 "nbformat_minor": 2
}
