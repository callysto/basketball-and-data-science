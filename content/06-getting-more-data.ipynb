{
 "cells": [
  {
   "attachments": {},
   "cell_type": "markdown",
   "metadata": {},
   "source": [
    "**banner**"
   ]
  },
  {
   "attachments": {},
   "cell_type": "markdown",
   "metadata": {},
   "source": [
    "# Getting More Data\n",
    "\n",
    "So far we have been using data that is already downloaded into this repository. But we might want to get newer, or older, data or more data about other teams or players. This notebook will use the code library [nba_api](https://github.com/swar/nba_api) to get data from [NBA.com](https://nba.com).\n",
    "\n",
    "Unfortunately the nba_api library doesn't work in JupyterLite where you are currently running these notebooks, so you will need to open this in [Google Colab](https://colab.research.google.com/github/callysto/basketball-and-data-science/blob/main/content/06-getting-more-data.ipynb) or the [Callysto Hub](https://hub.callysto.ca/jupyter/hub/user-redirect/git-pull?repo=https%3A%2F%2Fgithub.com%2Fcallysto%2Fbasketball-and-data-science&branch=main&subPath=content/06-getting-more-data.ipynb&depth=1).\n",
    "\n",
    "The code cell below will demonstrate getting career data about a particular player."
   ]
  },
  {
   "cell_type": "code",
   "execution_count": null,
   "metadata": {},
   "outputs": [],
   "source": [
    "!pip install nba_api"
   ]
  },
  {
   "cell_type": "code",
   "execution_count": null,
   "metadata": {},
   "outputs": [],
   "source": [
    "player_name = 'Pascal Siakam'\n",
    "\n",
    "from nba_api.stats.endpoints import playercareerstats\n",
    "from nba_api.stats.static import players\n",
    "player = players.find_players_by_full_name(player_name)[0]\n",
    "career = playercareerstats.PlayerCareerStats(player_id = player['id'])\n",
    "for i, df in enumerate(career.get_data_frames()):\n",
    "    print('dataframe', i)\n",
    "    display(df)"
   ]
  },
  {
   "cell_type": "code",
   "execution_count": 10,
   "metadata": {},
   "outputs": [
    {
     "data": {
      "text/plain": [
       "[{'id': 1627783,\n",
       "  'full_name': 'Pascal Siakam',\n",
       "  'first_name': 'Pascal',\n",
       "  'last_name': 'Siakam',\n",
       "  'is_active': True},\n",
       " {'id': 2544,\n",
       "  'full_name': 'LeBron James',\n",
       "  'first_name': 'LeBron',\n",
       "  'last_name': 'James',\n",
       "  'is_active': True},\n",
       " {'id': 977,\n",
       "  'full_name': 'Kobe Bryant',\n",
       "  'first_name': 'Kobe',\n",
       "  'last_name': 'Bryant',\n",
       "  'is_active': False},\n",
       " {'id': 201939,\n",
       "  'full_name': 'Stephen Curry',\n",
       "  'first_name': 'Stephen',\n",
       "  'last_name': 'Curry',\n",
       "  'is_active': True}]"
      ]
     },
     "execution_count": 10,
     "metadata": {},
     "output_type": "execute_result"
    }
   ],
   "source": [
    "player_names = ['Pascal Siakam','Lebron James','Kobe Bryant','Stephen Curry']\n",
    "player_careers = []\n",
    "\n",
    "for p in player_names:\n",
    "    player = players.find_players_by_full_name(p)[0]\n",
    "    careers = playercareerstats.PlayerCareerStats(player_id=player['id'])\n",
    "    "
   ]
  },
  {
   "attachments": {},
   "cell_type": "markdown",
   "metadata": {},
   "source": [
    "Another endpoint that's available is the All Time leaders for each category. If we are interested in who has the most assists or points, we can use this endpoint to get the top 10 from each category. Each dataframe is for a particular statistic. For example, the first dataframe is for # of games played. You can get specific statistics by specifying the index of the dataframe."
   ]
  },
  {
   "cell_type": "code",
   "execution_count": null,
   "metadata": {},
   "outputs": [],
   "source": [
    "from nba_api.stats.endpoints import alltimeleadersgrids as atl\n",
    "\n",
    "all_time = atl.AllTimeLeadersGrids()\n",
    "\n",
    "for df in all_time.get_data_frames():\n",
    "    print('ALL TIME', df.columns.values.tolist()[2])\n",
    "    display(df)\n",
    "\n",
    "#steals dataframe is at index number 3\n",
    "all_time_steals = all_time.get_data_frames()[3]"
   ]
  },
  {
   "attachments": {},
   "cell_type": "markdown",
   "metadata": {},
   "source": [
    "**banner**"
   ]
  }
 ],
 "metadata": {
  "kernelspec": {
   "display_name": "Python 3",
   "language": "python",
   "name": "python3"
  },
  "language_info": {
   "codemirror_mode": {
    "name": "ipython",
    "version": 3
   },
   "file_extension": ".py",
   "mimetype": "text/x-python",
   "name": "python",
   "nbconvert_exporter": "python",
   "pygments_lexer": "ipython3",
   "version": "3.11.3"
  },
  "orig_nbformat": 4
 },
 "nbformat": 4,
 "nbformat_minor": 2
}
