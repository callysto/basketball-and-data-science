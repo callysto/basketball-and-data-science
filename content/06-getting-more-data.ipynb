{
 "cells": [
  {
   "attachments": {},
   "cell_type": "markdown",
   "metadata": {},
   "source": [
    "![Callysto.ca Banner](https://github.com/callysto/curriculum-notebooks/blob/master/callysto-notebook-banner-top.jpg?raw=true)"
   ]
  },
  {
   "attachments": {},
   "cell_type": "markdown",
   "metadata": {},
   "source": [
    "# Getting More Data\n",
    "\n",
    "So far we have been using data that is already downloaded into this repository. But we might want to get newer, or older, data or more data about other teams or players. This notebook will use the code library [nba_api](https://github.com/swar/nba_api) to get data from [NBA.com](https://nba.com).\n",
    "\n",
    "Unfortunately the nba_api library doesn't work in JupyterLite where you are currently running these notebooks, so you will need to open this in [Google Colab](https://colab.research.google.com/github/callysto/basketball-and-data-science/blob/main/content/06-getting-more-data.ipynb) or the [Callysto Hub](https://hub.callysto.ca/jupyter/hub/user-redirect/git-pull?repo=https%3A%2F%2Fgithub.com%2Fcallysto%2Fbasketball-and-data-science&branch=main&subPath=content/06-getting-more-data.ipynb&depth=1).\n",
    "\n",
    "The code cell below will demonstrate getting career data about a particular player."
   ]
  },
  {
   "cell_type": "code",
   "execution_count": null,
   "metadata": {},
   "outputs": [],
   "source": [
    "!pip install nba_api"
   ]
  },
  {
   "cell_type": "code",
   "execution_count": null,
   "metadata": {},
   "outputs": [],
   "source": [
    "import pandas as pd\n",
    "pd.options.mode.chained_assignment = None"
   ]
  },
  {
   "cell_type": "code",
   "execution_count": null,
   "metadata": {},
   "outputs": [],
   "source": [
    "player_name = 'Pascal Siakam'\n",
    "\n",
    "from nba_api.stats.endpoints import playercareerstats\n",
    "from nba_api.stats.static import players\n",
    "player = players.find_players_by_full_name(player_name)[0]\n",
    "career = playercareerstats.PlayerCareerStats(player_id = player['id'])\n",
    "for i, df in enumerate(career.get_data_frames()):\n",
    "    print('dataframe', i)\n",
    "    display(df)"
   ]
  },
  {
   "attachments": {},
   "cell_type": "markdown",
   "metadata": {},
   "source": [
    "We can also get stats for more than 1 player. To do this we can make a list of players we are interested in and repeat steps similar to what we did above. This time we'll only display the first dataframe which shows the player's total stats for a specific season."
   ]
  },
  {
   "cell_type": "code",
   "execution_count": null,
   "metadata": {},
   "outputs": [],
   "source": [
    "player_names = ['Pascal Siakam','Lebron James','Kobe Bryant','Stephen Curry']\n",
    "player_careers = []\n",
    "\n",
    "for p in player_names:\n",
    "    player = players.find_players_by_full_name(p)[0]\n",
    "    careers = playercareerstats.PlayerCareerStats(player_id=player['id'])\n",
    "    print(player['full_name'])\n",
    "    display(careers.get_data_frames()[0])"
   ]
  },
  {
   "attachments": {},
   "cell_type": "markdown",
   "metadata": {},
   "source": [
    "---\n",
    "\n",
    "### Exercise\n",
    "\n",
    "Get the career stats for `'Michael Jordan'` and display the `'1st dataframe'`. What do you think this dataframe is communicating?\\\n",
    "*Hint: Indexing starts at 0!*\n",
    "\n",
    "---"
   ]
  },
  {
   "cell_type": "code",
   "execution_count": null,
   "metadata": {},
   "outputs": [],
   "source": []
  },
  {
   "attachments": {},
   "cell_type": "markdown",
   "metadata": {},
   "source": [
    "There are plenty of other 'endpoints' that we can access and depending on what we want to do with the data, we can use different dataframes. For example, if instead of looking at individual players, we were more interested at looking at how different teams are performing, we can use the `'League Standings'` endpoint."
   ]
  },
  {
   "cell_type": "code",
   "execution_count": null,
   "metadata": {},
   "outputs": [],
   "source": [
    "from nba_api.stats.endpoints import leaguestandingsv3\n",
    "\n",
    "standings = leaguestandingsv3.LeagueStandingsV3().get_data_frames()[0]\n",
    "\n",
    "display(standings)"
   ]
  },
  {
   "attachments": {},
   "cell_type": "markdown",
   "metadata": {},
   "source": [
    "There are a lot of columns (88 columns!)! Sometimes we're not interested in having that many columns and it's worthwhile to only keep the columns that we are interested in. For example if we only cared about which teams had the best records and longest win/lose streaks, we should only keep columns that help us better understand that."
   ]
  },
  {
   "cell_type": "code",
   "execution_count": null,
   "metadata": {},
   "outputs": [],
   "source": [
    "simplified_standings = standings[['TeamCity','TeamName','Conference','ConferenceRecord','PlayoffRank','WINS','LOSSES','Record','WinPCT','HOME','ROAD','LongWinStreak','LongLossStreak',]]\n",
    "\n",
    "simplified_standings"
   ]
  },
  {
   "attachments": {},
   "cell_type": "markdown",
   "metadata": {},
   "source": [
    "Another endpoint that's available is the All Time leaders for each category. If we are interested in who has the most assists or points, we can use this endpoint to get the top 10 from each category. Each dataframe is for a particular statistic. For example, the first dataframe is for # of games played. You can get specific statistics by specifying the index of the dataframe."
   ]
  },
  {
   "cell_type": "code",
   "execution_count": null,
   "metadata": {},
   "outputs": [],
   "source": [
    "from nba_api.stats.endpoints import alltimeleadersgrids as atl\n",
    "\n",
    "all_time = atl.AllTimeLeadersGrids()\n",
    "\n",
    "for df in all_time.get_data_frames():\n",
    "    print('ALL TIME', df.columns.values.tolist()[2])\n",
    "    display(df)\n",
    "\n",
    "#steals dataframe is at index number 3\n",
    "all_time_steals = all_time.get_data_frames()[3]"
   ]
  },
  {
   "attachments": {},
   "cell_type": "markdown",
   "metadata": {},
   "source": [
    "---\n",
    "\n",
    "### Exercise\n",
    "\n",
    "Display the dataframe associated with `'All-Time Assists'`\n",
    "\n",
    "---"
   ]
  },
  {
   "cell_type": "code",
   "execution_count": null,
   "metadata": {},
   "outputs": [],
   "source": []
  },
  {
   "attachments": {},
   "cell_type": "markdown",
   "metadata": {},
   "source": [
    "## Combining Multiple Data Sources"
   ]
  },
  {
   "attachments": {},
   "cell_type": "markdown",
   "metadata": {},
   "source": [
    "Sometimes we want to combine information that comes from two different sources. For example, if we want to know what each teams top scorer is based on their total points, we can combine two different endpoints together."
   ]
  },
  {
   "cell_type": "code",
   "execution_count": null,
   "metadata": {},
   "outputs": [],
   "source": [
    "#Similar to before we'll get dataframes from the endpoints\n",
    "from nba_api.stats.endpoints import leagueleaders\n",
    "\n",
    "leaders = leagueleaders.LeagueLeaders().get_data_frames()[0]\n",
    "\n",
    "#we only want the highest point getters from each team so we'll only focus on the first row for each team\n",
    "team_leaders = leaders.drop_duplicates(subset=['TEAM_ID'],keep='first')\n",
    "\n",
    "#We already created the dataframe for the teams in a previous activity above\n",
    "display(standings)\n",
    "display(team_leaders)"
   ]
  },
  {
   "attachments": {},
   "cell_type": "markdown",
   "metadata": {},
   "source": [
    "Lets trim down the number of columns of each dataframe. We'll only keep the columns that are of interest to use."
   ]
  },
  {
   "cell_type": "code",
   "execution_count": null,
   "metadata": {},
   "outputs": [],
   "source": [
    "trimmed_standings = standings[['TeamID','TeamCity','TeamName','Conference','ConferenceRecord','Record']]\n",
    "trimmed_leaders = team_leaders[['PLAYER','TEAM_ID','PTS']]\n",
    "\n",
    "display(trimmed_standings)\n",
    "display(trimmed_leaders)"
   ]
  },
  {
   "attachments": {},
   "cell_type": "markdown",
   "metadata": {},
   "source": [
    "Let's also rename some columns so there's less confusion when we combine the dataframes together."
   ]
  },
  {
   "cell_type": "code",
   "execution_count": null,
   "metadata": {},
   "outputs": [],
   "source": [
    "trimmed_leaders.rename(columns={'PLAYER':'Highest Scorer','TEAM_ID':'TeamID','PTS':'Player_Pts'},inplace=True)\n",
    "trimmed_leaders"
   ]
  },
  {
   "attachments": {},
   "cell_type": "markdown",
   "metadata": {},
   "source": [
    "Finally, lets combine the two dataframes together into one big dataframe with all the information we need. To do this we need a column that is similar between both of them. In our case this would be the `'TeamID'` column."
   ]
  },
  {
   "cell_type": "code",
   "execution_count": null,
   "metadata": {},
   "outputs": [],
   "source": [
    "combined_dataframe = trimmed_standings.merge(trimmed_leaders)\n",
    "combined_dataframe"
   ]
  },
  {
   "attachments": {},
   "cell_type": "markdown",
   "metadata": {},
   "source": [
    "---\n",
    "\n",
    "### Exercise\n",
    "\n",
    "Combine the `'League Leaders'` and `'Team Standings'` dataframes based on the `'Highest Assist Getters'` from each team.\n",
    "\n",
    "---"
   ]
  },
  {
   "cell_type": "code",
   "execution_count": null,
   "metadata": {},
   "outputs": [],
   "source": [
    "#The code below will help you to complete this exercise\n",
    "\n",
    "#we want to organize the 'leaders' dataframe based on the highest assist numbers. How can we sort values based on a specific column?\n",
    "assist_leaders = \n",
    "\n",
    "#we only want the highest assist getter from each team in the 'assist_leaders' dataframe. What did we do in the example above to do this?\n",
    "team_assist_leaders = \n",
    "\n",
    "\n",
    "trimmed_assist_leaders = team_assist_leaders[['PLAYER','TEAM_ID','AST']]\n",
    "trimmed_assist_leaders.rename(columns={'PLAYER':'Highest Assist Getter','TEAM_ID':'TeamID','AST':'Player_Ast'},inplace=True)\n",
    "assists_combined_dataframe = trimmed_standings.merge(trimmed_assist_leaders)\n",
    "assists_combined_dataframe"
   ]
  },
  {
   "attachments": {},
   "cell_type": "markdown",
   "metadata": {},
   "source": [
    "---\n",
    "\n",
    "### BONUS Exercise\n",
    "\n",
    "Can you sort the dataframe you created above, based on the player's assist numbers. Have the team that has the highest assist getter be at the top of the dataframe.\n",
    "\n",
    "---"
   ]
  },
  {
   "cell_type": "code",
   "execution_count": null,
   "metadata": {},
   "outputs": [],
   "source": []
  },
  {
   "attachments": {},
   "cell_type": "markdown",
   "metadata": {},
   "source": [
    "Here are some other interesting endpoints that have some cool information!\n",
    "\n",
    "- `'drafthistory'` = information on all drafts since the beginning of the NBA\n",
    "- `'franchisehistory'` = information on the history of a specific team\n",
    "- `'commonteamroster'` = information on the roster for teams (including coaches)\n",
    "- `'playoffpicture'` = information on how the playoff look for a specific season\n",
    "- `'gamerotation'` = information on the rotation of a specific game\n",
    "\n",
    "There are plenty more endpoints to explore. You can find information on them here [NBA_API Endpoints](https://github.com/swar/nba_api/tree/master/docs/nba_api/stats/endpoints)"
   ]
  },
  {
   "attachments": {},
   "cell_type": "markdown",
   "metadata": {},
   "source": [
    "The [next notebook](07-design-thinking.ipynb) will introduce design thinking."
   ]
  },
  {
   "attachments": {},
   "cell_type": "markdown",
   "metadata": {},
   "source": [
    "[![Callysto.ca License](https://github.com/callysto/curriculum-notebooks/blob/master/callysto-notebook-banner-bottom.jpg?raw=true)](https://github.com/callysto/curriculum-notebooks/blob/master/LICENSE.md)"
   ]
  }
 ],
 "metadata": {
  "kernelspec": {
   "display_name": "Python 3",
   "language": "python",
   "name": "python3"
  },
  "language_info": {
   "codemirror_mode": {
    "name": "ipython",
    "version": 3
   },
   "file_extension": ".py",
   "mimetype": "text/x-python",
   "name": "python",
   "nbconvert_exporter": "python",
   "pygments_lexer": "ipython3",
   "version": "3.11.3"
  },
  "orig_nbformat": 4
 },
 "nbformat": 4,
 "nbformat_minor": 2
}
