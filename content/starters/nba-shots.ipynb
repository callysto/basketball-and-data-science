{
 "cells": [
  {
   "attachments": {},
   "cell_type": "markdown",
   "metadata": {},
   "source": [
    "# NBA Shot Locations\n",
    "\n",
    "In this notebook I looked at NBA shot charts."
   ]
  },
  {
   "cell_type": "code",
   "execution_count": null,
   "metadata": {},
   "outputs": [],
   "source": [
    "from nba_api.stats.endpoints import shotchartdetail\n",
    "from nba_api.stats.static import teams\n",
    "#team = teams.find_teams_by_full_name(team_name)[0]\n",
    "#team_id = team['id']\n",
    "#season = '2022-23'\n",
    "#season_type = 'Regular Season'\n",
    "#all_raptors_shots = shotchartdetail.ShotChartDetail(team_id=team_id, player_id=0, season_nullable=season, season_type_all_star=season_type, context_measure_simple='FGA') # FGA = Field Goal Attempts, PTS = Points\n",
    "#raptors_shots = all_raptors_shots.get_data_frames()[0]\n",
    "#raptors_shots"
   ]
  },
  {
   "cell_type": "code",
   "execution_count": null,
   "metadata": {},
   "outputs": [],
   "source": [
    "nba_teams = teams.get_teams()\n",
    "for team in nba_teams:\n",
    "    team_name = team['full_name']\n",
    "    team_id = team['id']\n",
    "    print(team)"
   ]
  },
  {
   "cell_type": "code",
   "execution_count": null,
   "metadata": {},
   "outputs": [],
   "source": [
    "from nba_api.stats.endpoints import shotchartdetail\n",
    "from nba_api.stats.static import teams\n",
    "from time import sleep\n",
    "\n",
    "def getShotCharts(team_id, season):\n",
    "    #season = '2022-23'\n",
    "    shots = shotchartdetail.ShotChartDetail(team_id=team_id, player_id=0, season_nullable=season, season_type_all_star=['Regular Season', 'Playoffs'], context_measure_simple='FGA').get_data_frames()[0]\n",
    "    return shots\n",
    "\n",
    "seasons = ['2004-05', '2005-06', '2006-07', '2007-08', '2008-09', '2009-10', '2010-11', '2011-12', '2012-13', '2013-14', '2014-15', '2015-16', '2016-17', '2017-18', '2018-19', '2019-20', '2021-22', '2022-23']\n",
    "\n",
    "nba_teams = teams.get_teams()\n",
    "for team in nba_teams:\n",
    "    team_name = team['full_name']\n",
    "    print(team_name)\n",
    "    team_id = team['id']\n",
    "    for season in seasons:\n",
    "        df = getShotCharts(team_id, season)\n",
    "        df.to_csv('data/' + team_name + '_' + season + '.csv')\n",
    "        sleep(10)"
   ]
  }
 ],
 "metadata": {
  "kernelspec": {
   "display_name": "Python 3",
   "language": "python",
   "name": "python3"
  },
  "language_info": {
   "codemirror_mode": {
    "name": "ipython",
    "version": 3
   },
   "file_extension": ".py",
   "mimetype": "text/x-python",
   "name": "python",
   "nbconvert_exporter": "python",
   "pygments_lexer": "ipython3",
   "version": "3.10.6"
  },
  "orig_nbformat": 4
 },
 "nbformat": 4,
 "nbformat_minor": 2
}
