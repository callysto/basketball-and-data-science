{
 "cells": [
  {
   "attachments": {},
   "cell_type": "markdown",
   "metadata": {},
   "source": [
    "![Callysto.ca Banner](https://github.com/callysto/curriculum-notebooks/blob/master/callysto-notebook-banner-top.jpg?raw=true)"
   ]
  },
  {
   "attachments": {},
   "cell_type": "markdown",
   "metadata": {},
   "source": [
    "# Generative Artificial Intelligence\n",
    "\n",
    "Generative AI is a type of artificial intelligence that can create new content based on existing data. For example, if an AI system has been trained on a data set of code that people have written, the system can output new code like programming assistant.\n",
    "\n",
    "Many AI chat bots have coding examples in their training data, which allows them to help with programming challenges. The most famous is [ChatGPT](https://openai.com/blog/chatgpt), but you can also try [Perplexity](https://www.perplexity.ai), [InferKit](https://app.inferkit.com/demo), or [AI Writer](https://tools.picsart.com/text/ai-writer/editor/?id=0).\n",
    "\n",
    "There are also some tools that specifically designed to help with coding, such as [GitHub Copilot](https://github.com/features/copilot), [CodeGeex](https://github.com/THUDM/CodeGeeX), and [Codeium](https://codeium.com). Some of these tools have [online demos](https://codegeex.cn/playground) that you can [use without logging in](https://codeium.com/playground), or you can add them to your coding program or [web browser](https://codeium.com/chrome_tutorial).\n",
    "\n",
    "We are going to try the online version of Codeium at <a href=\"https://codeium.com/playground\" target=\"_blank\">codeium.com/playground</a>."
   ]
  },
  {
   "attachments": {},
   "cell_type": "markdown",
   "metadata": {},
   "source": [
    "---\n",
    "\n",
    "## Exercise\n",
    "\n",
    "Paste the following code comment line into the Codeium editor and then press the *Enter* key. It should start making suggestions that you can accept using the *Tab* key. Press the *Enter* key after each line to have the AI start to suggest the next line of code.\n",
    "\n",
    "Is the code it generates similar to what you have been writing?\n",
    "\n",
    "---"
   ]
  },
  {
   "cell_type": "code",
   "execution_count": null,
   "metadata": {},
   "outputs": [],
   "source": [
    "# create a Plotly Express bar graph with season on the x-axis and number of wins on the y-axis\n"
   ]
  },
  {
   "attachments": {},
   "cell_type": "markdown",
   "metadata": {},
   "source": [
    "You can use AI tools like this to help you write code, translate programs into different coding languages, or even write comments in your code to help explain it.\n",
    "\n",
    "Other types of generative AI include image generators like [Stable Diffusion](https://stablediffusionweb.com/#demo) or music generators like [Meta's MusicGen](https://huggingface.co/spaces/facebook/MusicGen). There are even AI tools that generate entire slide presentations, such as [Tome](https://tome.app) or help you with your writing, like [Grammarly](https://www.grammarly.com)."
   ]
  },
  {
   "attachments": {},
   "cell_type": "markdown",
   "metadata": {},
   "source": [
    "While there is a lot we can do with AI tools, there are many issues to consider. We'll start with some videos from [Ethically Aligned AI](https://www.ethicallyalignedai.com) and [Canadian Civil Liberties Association](https://ccla.org) that introduce some of these issues. Run the following cell to display the videos."
   ]
  },
  {
   "cell_type": "code",
   "execution_count": null,
   "metadata": {},
   "outputs": [],
   "source": [
    "from IPython.display import YouTubeVideo\n",
    "video_list = ['QlVIRCPwHLc', '6FrtLhOKhrw', 'E5Hf0LcHe9k', 'O-Hxc6NDAsM']\n",
    "for video in video_list:\n",
    "    display(YouTubeVideo(video, width=800, height=450))"
   ]
  },
  {
   "attachments": {},
   "cell_type": "markdown",
   "metadata": {},
   "source": [
    "---\n",
    "\n",
    "## Exercise\n",
    "\n",
    "Choose one of the following topics to discuss or write about.\n",
    "\n",
    "* Is bias in the training data a problem? Could this lead to increased polarization?\n",
    "* Might AI help make rich people richer and poor people poorer?\n",
    "* Will AI cause people to lose their jobs?\n",
    "* Could relying on AI lead to us no longer being able to do some things?\n",
    "* Will our world be better if some professions, like doctors or drivers, use AI to help them do their jobs?\n",
    "* Is it plagiarism or cheating to use generative AI tools in school? Should we block AI tools in schools?\n",
    "* If everyone uses AI tools to write or create art, will there be any new or creative ideas?\n",
    "* Training and running AI uses a lot of electricity. Is it worth the environmental impact?\n",
    "\n",
    "---"
   ]
  },
  {
   "attachments": {},
   "cell_type": "markdown",
   "metadata": {},
   "source": [
    "The [next notebook](09-machine-learning.ipynb) will look at machine learning and predictive models."
   ]
  },
  {
   "attachments": {},
   "cell_type": "markdown",
   "metadata": {},
   "source": [
    "[![Callysto.ca License](https://github.com/callysto/curriculum-notebooks/blob/master/callysto-notebook-banner-bottom.jpg?raw=true)](https://github.com/callysto/curriculum-notebooks/blob/master/LICENSE.md)"
   ]
  }
 ],
 "metadata": {
  "kernelspec": {
   "display_name": "Python 3",
   "language": "python",
   "name": "python3"
  },
  "language_info": {
   "codemirror_mode": {
    "name": "ipython",
    "version": 3
   },
   "file_extension": ".py",
   "mimetype": "text/x-python",
   "name": "python",
   "nbconvert_exporter": "python",
   "pygments_lexer": "ipython3",
   "version": "3.11.2"
  },
  "orig_nbformat": 4
 },
 "nbformat": 4,
 "nbformat_minor": 2
}
