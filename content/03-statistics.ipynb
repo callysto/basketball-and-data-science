{
 "cells": [
  {
   "attachments": {},
   "cell_type": "markdown",
   "metadata": {},
   "source": [
    "![Callysto.ca Banner](https://github.com/callysto/curriculum-notebooks/blob/master/callysto-notebook-banner-top.jpg?raw=true)"
   ]
  },
  {
   "attachments": {},
   "cell_type": "markdown",
   "metadata": {},
   "source": [
    "# Statistics\n",
    "\n",
    "This notebook will introduce some basic statistics with data. Statistics is the process of collecting, describing, and analyzing data. This includes things like [mean, median, and mode](https://www.youtube.com/watch?v=zOYVZtTIjBA&t=49s).\n",
    "\n",
    "First we will load the same data we have been using about [Pascal Siakam](https://www.basketball-reference.com/players/s/siakapa01.htm)."
   ]
  },
  {
   "cell_type": "code",
   "execution_count": null,
   "metadata": {},
   "outputs": [],
   "source": [
    "import pandas as pd\n",
    "data = pd.read_csv('data/nba-players/Pascal_Siakam.csv')\n",
    "data"
   ]
  },
  {
   "attachments": {},
   "cell_type": "markdown",
   "metadata": {},
   "source": [
    "And here's a reminder of the data glossary from [basketball-reference.com](https://www.basketball-reference.com):\n",
    "\n",
    "|Column|Meaning|\n",
    "|-|-|\n",
    "|Age|Player's age on February 1 of the season|\n",
    "|Lg|League|\n",
    "|Pos|Position|\n",
    "|G|Games|\n",
    "|GS|Games Started|\n",
    "|MP|Minutes Played Per Game|\n",
    "|FG|Field Goals Per Game|\n",
    "|FGA|Field Goal Attempts Per Game|\n",
    "|FG%|Field Goal Percentage|\n",
    "|3P|3-Point Field Goals Per Game|\n",
    "|3PA|3-Point Field Goal Attempts Per Game|\n",
    "|3P%|3-Point Field Goal Percentage|\n",
    "|2P|2-Point Field Goals Per Game|\n",
    "|2PA|2-Point Field Goal Attempts Per Game|\n",
    "|2P%|2-Point Field Goal Percentage|\n",
    "|eFG%|Effective Field Goal Percentage*|\n",
    "|FT|Free Throws Per Game|\n",
    "|FTA|Free Throw Attempts Per Game|\n",
    "|FT%|Free Throw Percentage|\n",
    "|ORB|Offensive Rebounds Per Game|\n",
    "|DRB|Defensive Rebounds Per Game|\n",
    "|TRB|Total Rebounds Per Game|\n",
    "|AST|Assists Per Game|\n",
    "|STL|Steals Per Game|\n",
    "|BLK|Blocks Per Game|\n",
    "|TOV|Turnovers Per Game|\n",
    "|PF|Personal Fouls Per Game|\n",
    "|PTS|Points Per Game|"
   ]
  },
  {
   "attachments": {},
   "cell_type": "markdown",
   "metadata": {},
   "source": [
    "Notice that there is a row for `Career`, let's create a new dataframe that doesn't include that. We'll drop the row with an index of `7`."
   ]
  },
  {
   "cell_type": "code",
   "execution_count": null,
   "metadata": {},
   "outputs": [],
   "source": [
    "seasons = data.drop(data.index[7])\n",
    "seasons"
   ]
  },
  {
   "attachments": {},
   "cell_type": "markdown",
   "metadata": {},
   "source": [
    "## Calculating Statistics\n",
    "\n",
    "Now let's calculate some statistics, and maybe compare them to that `Career` row."
   ]
  },
  {
   "cell_type": "code",
   "execution_count": null,
   "metadata": {},
   "outputs": [],
   "source": [
    "seasons['G'].sum()"
   ]
  },
  {
   "attachments": {},
   "cell_type": "markdown",
   "metadata": {},
   "source": [
    "Comparing that to the value from row `7` in the original dataframe."
   ]
  },
  {
   "cell_type": "code",
   "execution_count": null,
   "metadata": {},
   "outputs": [],
   "source": [
    "data['G'][7]"
   ]
  },
  {
   "attachments": {},
   "cell_type": "markdown",
   "metadata": {},
   "source": [
    "Let's find the average (mean) number of games he played per season."
   ]
  },
  {
   "cell_type": "code",
   "execution_count": null,
   "metadata": {},
   "outputs": [],
   "source": [
    "seasons['G'].mean()"
   ]
  },
  {
   "attachments": {},
   "cell_type": "markdown",
   "metadata": {},
   "source": [
    "We can also calculate `median`, `max`imum, and `min`imum."
   ]
  },
  {
   "cell_type": "code",
   "execution_count": null,
   "metadata": {},
   "outputs": [],
   "source": [
    "print('Median:', seasons['G'].median())\n",
    "print('Maximum:', seasons['G'].max())\n",
    "print('Minimum:', seasons['G'].min())"
   ]
  },
  {
   "attachments": {},
   "cell_type": "markdown",
   "metadata": {},
   "source": [
    "It ia also possible to calculate any of these statistics for the whole dataframe. We will want to use `numeric_only = True` so that it is only calculating with columns containing numbers."
   ]
  },
  {
   "cell_type": "code",
   "execution_count": null,
   "metadata": {},
   "outputs": [],
   "source": [
    "seasons.mean(numeric_only = True)"
   ]
  },
  {
   "attachments": {},
   "cell_type": "markdown",
   "metadata": {},
   "source": [
    "We may also want to use the `.describe()` method, either on a single column or on the whole dataframe."
   ]
  },
  {
   "cell_type": "code",
   "execution_count": null,
   "metadata": {},
   "outputs": [],
   "source": [
    "seasons['G'].describe()"
   ]
  },
  {
   "cell_type": "code",
   "execution_count": null,
   "metadata": {},
   "outputs": [],
   "source": [
    "seasons.describe()"
   ]
  },
  {
   "attachments": {},
   "cell_type": "markdown",
   "metadata": {},
   "source": [
    "---\n",
    "\n",
    "### Exercise\n",
    "\n",
    "Use code to find the maximum and minimum Minutes Played Per Game (`'MP'`) in the `seasons` dataframe\n",
    "\n",
    "---"
   ]
  },
  {
   "cell_type": "code",
   "execution_count": null,
   "metadata": {},
   "outputs": [],
   "source": []
  },
  {
   "attachments": {},
   "cell_type": "markdown",
   "metadata": {},
   "source": [
    "## Making New Columns\n",
    "\n",
    "In the dataset there are a few percent columns, let's create a new column that is the average values of 3-Point, 2-Point, and Free Throw percents."
   ]
  },
  {
   "cell_type": "code",
   "execution_count": null,
   "metadata": {},
   "outputs": [],
   "source": [
    "seasons['Shot Percentage'] = (seasons['FG%'] + seasons['3P%'] + seasons['2P%'] + seasons['FT%']) / 4\n",
    "seasons"
   ]
  },
  {
   "attachments": {},
   "cell_type": "markdown",
   "metadata": {},
   "source": [
    "And we can also decide to display only those columns."
   ]
  },
  {
   "cell_type": "code",
   "execution_count": null,
   "metadata": {},
   "outputs": [],
   "source": [
    "seasons[['FG%','3P%','2P%','FT%','Shot Percentage']]"
   ]
  },
  {
   "attachments": {},
   "cell_type": "markdown",
   "metadata": {},
   "source": [
    "---\n",
    "\n",
    "### Exercise\n",
    "\n",
    "Create a new column that is Games (`'G'`) multiplied by Minutes Played Per Game (`'MP'`). Use the `*` symbol for multiplication.\n",
    "\n",
    "---"
   ]
  },
  {
   "cell_type": "code",
   "execution_count": null,
   "metadata": {},
   "outputs": [],
   "source": []
  },
  {
   "attachments": {},
   "cell_type": "markdown",
   "metadata": {},
   "source": [
    "## Working With More Data\n",
    "\n",
    "We have data files from [basketball-reference.com](https://www.basketball-reference.com/players) for a lot of NBA players. We will read each data file and add it to one big dataframe."
   ]
  },
  {
   "cell_type": "code",
   "execution_count": null,
   "metadata": {},
   "outputs": [],
   "source": [
    "df = pd.DataFrame()\n",
    "import os\n",
    "for filename in os.listdir('data/nba-players'):\n",
    "    if filename.endswith(\".csv\"):\n",
    "        data = pd.read_csv('data/nba-players/' + filename)\n",
    "        data['Player'] = filename[:-4].replace('_', ' ') # set the player name\n",
    "        df = pd.concat([df, data], ignore_index=True)\n",
    "for column in df.columns[5:-1]:\n",
    "    df[column] = pd.to_numeric(df[column], errors='coerce') # convert to numeric\n",
    "df"
   ]
  },
  {
   "attachments": {},
   "cell_type": "markdown",
   "metadata": {},
   "source": [
    "Now we can look at some statistics for all of those players, such as career average free throw percent."
   ]
  },
  {
   "cell_type": "code",
   "execution_count": null,
   "metadata": {},
   "outputs": [],
   "source": [
    "df['FG%'] = pd.to_numeric(df['FG%'], errors='coerce')\n",
    "df[df['Season'] == 'Career']['FG%'].mean()"
   ]
  },
  {
   "attachments": {},
   "cell_type": "markdown",
   "metadata": {},
   "source": [
    "We can also compare statistics for the players on the 2022-2023 season roster."
   ]
  },
  {
   "cell_type": "code",
   "execution_count": null,
   "metadata": {},
   "outputs": [],
   "source": [
    "raptors_2023 = ['Scottie Barnes',\n",
    "                'Chris Boucher',\n",
    "                'Pascal Siakam',\n",
    "                'Fred VanVleet',\n",
    "                'OG Anunoby',\n",
    "                'Gary Trent Jr.',\n",
    "                'Christian Koloko',\n",
    "                'Precious Achiuwa',\n",
    "                'Thaddeus Young',\n",
    "                'Malachi Flynn',\n",
    "                'Dalano Banton',\n",
    "                'Jakob Poeltl',\n",
    "                'Jeff Dowtin',\n",
    "                'Will Barton',\n",
    "                'Ron Harper Jr.',\n",
    "                'Joe Wieskamp',\n",
    "                'Otto Porter Jr.']\n",
    "\n",
    "raptors_stats = df[(df['Player'].isin(raptors_2023)) & (df['Season'] == 'Career')]\n",
    "\n",
    "import plotly.express as px\n",
    "px.bar(raptors_stats.sort_values('FG%'), x='Player', y='FG%', title='2023 Raptors Career Field Goal Percentage')"
   ]
  },
  {
   "attachments": {},
   "cell_type": "markdown",
   "metadata": {},
   "source": [
    "### Histograms\n",
    "\n",
    "A [histogram](https://plotly.com/python/histograms) is a similar visualization that can be used to show statistics such as `count`, `sum`, or `average`."
   ]
  },
  {
   "cell_type": "code",
   "execution_count": null,
   "metadata": {},
   "outputs": [],
   "source": [
    "px.histogram(raptors_stats, x='Player', y='FG', histfunc='avg', title='2023 Raptors Career Field Goal Averages')"
   ]
  },
  {
   "attachments": {},
   "cell_type": "markdown",
   "metadata": {},
   "source": [
    "---\n",
    "\n",
    "### Exercise\n",
    "\n",
    "Create a visualization, such as a bar graph or scatter plot, from the dataframe called `df`.\n",
    "\n",
    "Suggested visualizations are:\n",
    "* a bar graph of a career stat other than field goal percentage for the 2022-2023 Raptors roster\n",
    "* a scatter plot with field goal attempts on the x-axis and points on the y-axis to see if there is a relationship. Use `color='Player', height=800` to make it look nicer.\n",
    "* a line graph with `Age` on the x-axis and a stat on the y-axis for a particular player, for example `df[df['Player']=='Jakob Poeltl']`\n",
    "\n",
    "---"
   ]
  },
  {
   "cell_type": "code",
   "execution_count": null,
   "metadata": {},
   "outputs": [],
   "source": []
  },
  {
   "attachments": {},
   "cell_type": "markdown",
   "metadata": {},
   "source": [
    "Now that you have an understanding of how Jupyter notebooks work, check out these [example projects](examples).\n",
    "\n",
    "In the next notebook we will look at [markdown](04-markdown.ipynb) for formatting text."
   ]
  },
  {
   "attachments": {},
   "cell_type": "markdown",
   "metadata": {},
   "source": [
    "[![Callysto.ca License](https://github.com/callysto/curriculum-notebooks/blob/master/callysto-notebook-banner-bottom.jpg?raw=true)](https://github.com/callysto/curriculum-notebooks/blob/master/LICENSE.md)"
   ]
  }
 ],
 "metadata": {
  "kernelspec": {
   "display_name": "Python 3",
   "language": "python",
   "name": "python3"
  },
  "language_info": {
   "codemirror_mode": {
    "name": "ipython",
    "version": 3
   },
   "file_extension": ".py",
   "mimetype": "text/x-python",
   "name": "python",
   "nbconvert_exporter": "python",
   "pygments_lexer": "ipython3",
   "version": "3.10.4"
  },
  "orig_nbformat": 4
 },
 "nbformat": 4,
 "nbformat_minor": 2
}
