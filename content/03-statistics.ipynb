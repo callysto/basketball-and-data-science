{
 "cells": [
  {
   "attachments": {},
   "cell_type": "markdown",
   "metadata": {},
   "source": [
    "![Callysto.ca Banner](https://github.com/callysto/curriculum-notebooks/blob/master/callysto-notebook-banner-top.jpg?raw=true)"
   ]
  },
  {
   "attachments": {},
   "cell_type": "markdown",
   "metadata": {},
   "source": [
    "# Statistics\n",
    "\n",
    "This notebook will introduce some basic statistics with data. Statistics is the process of collecting, describing, and analyzing data. This includes things like [mean, median, and mode](https://www.youtube.com/watch?v=zOYVZtTIjBA&t=49s).\n",
    "\n",
    "First we will load the same data we have been using about [Pascal Siakam](https://www.basketball-reference.com/players/s/siakapa01.htm)."
   ]
  },
  {
   "cell_type": "code",
   "execution_count": null,
   "metadata": {},
   "outputs": [],
   "source": [
    "import pandas as pd\n",
    "data = pd.read_csv('https://raw.githubusercontent.com/callysto/basketball-and-data-science/main/content/data/nba-players/Pascal_Siakam.csv')\n",
    "data"
   ]
  },
  {
   "attachments": {},
   "cell_type": "markdown",
   "metadata": {},
   "source": [
    "And here's a reminder of the data glossary from [basketball-reference.com](https://www.basketball-reference.com):\n",
    "\n",
    "|Column|Meaning|\n",
    "|-|-|\n",
    "|Age|Player's age on February 1 of the season|\n",
    "|Lg|League|\n",
    "|Pos|Position|\n",
    "|G|Games|\n",
    "|GS|Games Started|\n",
    "|MP|Minutes Played Per Game|\n",
    "|FG|Field Goals Per Game|\n",
    "|FGA|Field Goal Attempts Per Game|\n",
    "|FG%|Field Goal Percentage|\n",
    "|3P|3-Point Field Goals Per Game|\n",
    "|3PA|3-Point Field Goal Attempts Per Game|\n",
    "|3P%|3-Point Field Goal Percentage|\n",
    "|2P|2-Point Field Goals Per Game|\n",
    "|2PA|2-Point Field Goal Attempts Per Game|\n",
    "|2P%|2-Point Field Goal Percentage|\n",
    "|eFG%|Effective Field Goal Percentage*|\n",
    "|FT|Free Throws Per Game|\n",
    "|FTA|Free Throw Attempts Per Game|\n",
    "|FT%|Free Throw Percentage|\n",
    "|ORB|Offensive Rebounds Per Game|\n",
    "|DRB|Defensive Rebounds Per Game|\n",
    "|TRB|Total Rebounds Per Game|\n",
    "|AST|Assists Per Game|\n",
    "|STL|Steals Per Game|\n",
    "|BLK|Blocks Per Game|\n",
    "|TOV|Turnovers Per Game|\n",
    "|PF|Personal Fouls Per Game|\n",
    "|PTS|Points Per Game|"
   ]
  },
  {
   "attachments": {},
   "cell_type": "markdown",
   "metadata": {},
   "source": [
    "Notice that there is a row for `Career`, let's create a new dataframe that doesn't include that. We'll drop the row with an index of `7`."
   ]
  },
  {
   "cell_type": "code",
   "execution_count": null,
   "metadata": {},
   "outputs": [],
   "source": [
    "seasons = data.drop(data.index[7])\n",
    "seasons"
   ]
  },
  {
   "attachments": {},
   "cell_type": "markdown",
   "metadata": {},
   "source": [
    "## Calculating Statistics\n",
    "\n",
    "Now let's calculate some statistics, and maybe compare them to that `Career` row."
   ]
  },
  {
   "cell_type": "code",
   "execution_count": null,
   "metadata": {},
   "outputs": [],
   "source": [
    "seasons['G'].sum()"
   ]
  },
  {
   "attachments": {},
   "cell_type": "markdown",
   "metadata": {},
   "source": [
    "Comparing that to the value from row `7` in the original dataframe."
   ]
  },
  {
   "cell_type": "code",
   "execution_count": null,
   "metadata": {},
   "outputs": [],
   "source": [
    "data['G'][7]"
   ]
  },
  {
   "attachments": {},
   "cell_type": "markdown",
   "metadata": {},
   "source": [
    "Let's find the average (mean) number of games he played per season."
   ]
  },
  {
   "cell_type": "code",
   "execution_count": null,
   "metadata": {},
   "outputs": [],
   "source": [
    "seasons['G'].mean()"
   ]
  },
  {
   "attachments": {},
   "cell_type": "markdown",
   "metadata": {},
   "source": [
    "We can also calculate `median`, `max`imum, and `min`imum."
   ]
  },
  {
   "cell_type": "code",
   "execution_count": null,
   "metadata": {},
   "outputs": [],
   "source": [
    "seasons['G'].median()"
   ]
  },
  {
   "cell_type": "code",
   "execution_count": null,
   "metadata": {},
   "outputs": [],
   "source": [
    "seasons['G'].max()"
   ]
  },
  {
   "cell_type": "code",
   "execution_count": null,
   "metadata": {},
   "outputs": [],
   "source": [
    "seasons['G'].min()"
   ]
  },
  {
   "attachments": {},
   "cell_type": "markdown",
   "metadata": {},
   "source": [
    "It ia also possible to calculate any of these statistics for the whole dataframe. We will want to use `numeric_only = True` so that it is only calculating with columns containing numbers."
   ]
  },
  {
   "cell_type": "code",
   "execution_count": null,
   "metadata": {},
   "outputs": [],
   "source": [
    "seasons.mean(numeric_only = True)"
   ]
  },
  {
   "attachments": {},
   "cell_type": "markdown",
   "metadata": {},
   "source": [
    "We may also wnat to use the `.describe()` method, either on a single column or on the whole dataframe."
   ]
  },
  {
   "cell_type": "code",
   "execution_count": null,
   "metadata": {},
   "outputs": [],
   "source": [
    "seasons['G'].describe()"
   ]
  },
  {
   "cell_type": "code",
   "execution_count": null,
   "metadata": {},
   "outputs": [],
   "source": [
    "seasons.describe()"
   ]
  },
  {
   "attachments": {},
   "cell_type": "markdown",
   "metadata": {},
   "source": [
    "### Exercise\n",
    "\n",
    "---\n",
    "\n",
    "Use code to find the maximum and minimum Minutes Played Per Game (`'MP'`) in the `seasons` dataframe\n",
    "\n",
    "---"
   ]
  },
  {
   "cell_type": "code",
   "execution_count": null,
   "metadata": {},
   "outputs": [],
   "source": []
  },
  {
   "attachments": {},
   "cell_type": "markdown",
   "metadata": {},
   "source": [
    "## Making New Columns\n",
    "\n",
    "In the dataset there are a few percent columns, let's create a new column that is the average values of 3-Point, 2-Point, and Free Throw percents."
   ]
  },
  {
   "cell_type": "code",
   "execution_count": null,
   "metadata": {},
   "outputs": [],
   "source": [
    "seasons['Shot Percentage'] = (seasons['FG%'] + seasons['3P%'] + seasons['2P%'] + seasons['FT%']) / 4\n",
    "seasons"
   ]
  },
  {
   "attachments": {},
   "cell_type": "markdown",
   "metadata": {},
   "source": [
    "And we can also decide to display only those columns."
   ]
  },
  {
   "cell_type": "code",
   "execution_count": null,
   "metadata": {},
   "outputs": [],
   "source": [
    "seasons[['FG%','3P%','2P%','FT%','Shot Percentage']]"
   ]
  },
  {
   "attachments": {},
   "cell_type": "markdown",
   "metadata": {},
   "source": [
    "### Exercise\n",
    "\n",
    "---\n",
    "\n",
    "Create a new column that is Games (`'G'`) multiplied by Minutes Played Per Game (`'MP'`). Use the `*` symbol for multiplication.\n",
    "\n",
    "---"
   ]
  },
  {
   "cell_type": "code",
   "execution_count": null,
   "metadata": {},
   "outputs": [],
   "source": []
  },
  {
   "attachments": {},
   "cell_type": "markdown",
   "metadata": {},
   "source": [
    "## Working With More Data\n",
    "\n",
    "We have data files from [basketball-reference.com](https://www.basketball-reference.com/players) for a lot of NBA players. We will read each data file and add it to one big dataframe."
   ]
  },
  {
   "cell_type": "code",
   "execution_count": null,
   "metadata": {},
   "outputs": [],
   "source": [
    "import urllib.parse\n",
    "\n",
    "df = pd.DataFrame()\n",
    "import os\n",
    "\n",
    "for filename in ['Aaron_Gray.csv', 'Aaron_Williams.csv', 'Acie_Earl.csv', 'Alan_Anderson.csv', 'Aleksandar_Radojević.csv', 'Alexis_Ajinça.csv',\n",
    "                'Alex_Len.csv', 'Alfonzo_McKinnie.csv', 'Alvin_Robertson.csv', 'Alvin_Williams.csv', 'Amir_Johnson.csv', 'Andrea_Bargnani.csv',\n",
    "                'Andre_Barrett.csv', 'Anthony_Bennett.csv', 'Anthony_Carter.csv', 'Anthony_Parker.csv', 'Antoine_Wright.csv', 'Antonio_Davis.csv',\n",
    "                'Antonio_Lang.csv', 'Armoni_Brooks.csv', 'Aron_Baynes.csv', 'Art_Long.csv', 'Austin_Daye.csv', 'Benoit_Benjamin.csv',\n",
    "                'Ben_Uzoh.csv', 'Bismack_Biyombo.csv', 'Bob_McCann.csv', 'Brad_Lohaus.csv', 'Bruno_Caboclo.csv', 'C.J._Miles.csv',\n",
    "                'Carlos_Arroyo.csv', 'Carlos_Delfino.csv', 'Carlos_Rogers.csv', 'Charles_Oakley.csv', 'Charlie_Villanueva.csv', 'Chauncey_Billups.csv',\n",
    "                'Christian_Koloko.csv', 'Chris_Bosh.csv', 'Chris_Boucher.csv', 'Chris_Childs.csv', 'Chris_Garner.csv', 'Chris_Jefferies.csv',\n",
    "                'Chris_Paul.csv', 'Chuck_Hayes.csv', 'Clifford_Rozier.csv', 'Corie_Blount.csv', 'Corliss_Williamson.csv', 'Cory_Joseph.csv',\n",
    "                'D.J._Augustin.csv', 'D.J._Wilson.csv', 'Dalano_Banton.csv', 'Damone_Brown.csv', 'Damon_Stoudamire.csv', 'Daniel_Oturu.csv',\n",
    "                'Danny_Green.csv', \"Dan_O'Sullivan.csv\", 'Darrick_Martin.csv', 'David_Andersen.csv', 'David_Johnson.csv', \"DeAndre'_Bembry.csv\",\n",
    "                'Dee_Brown.csv', 'Dell_Curry.csv', 'Delon_Wright.csv', 'DeMarre_Carroll.csv', 'DeMar_DeRozan.csv', 'Derrick_Dial.csv',\n",
    "                'Dewan_Hernandez.csv', 'Dion_Glover.csv', 'Dolph_Schayes.csv', 'Dominic_McGuire.csv', 'Donald_Whiteside.csv', 'Donyell_Marshall.csv',\n",
    "                'Doug_Christie.csv', 'Dwayne_Whitfield.csv', 'Dwight_Buycks.csv', 'Earl_Cureton.csv', 'Ed_Davis.csv', 'Ed_Pinckney.csv',\n",
    "                'Ed_Stokes.csv', 'Elvin_Hayes.csv', 'Eric_Montross.csv', 'Eric_Moreland.csv', 'Eric_Williams.csv', 'Freddie_Gillespie.csv',\n",
    "                'Fred_Jones.csv', 'Fred_VanVleet.csv', 'Garth_Joseph.csv', 'Gary_Forbes.csv', 'Gary_Trent.csv', 'Gary_Trent_Jr..csv',\n",
    "                'Giannis_Antetokounmpo.csv', 'Goran_Dragić.csv', 'Greg_Foster.csv', 'Greg_Monroe.csv', 'Greg_Stiemsma.csv', 'Greivis_Vásquez.csv',\n",
    "                'Hakeem_Olajuwon.csv', 'Hassan_Adams.csv', 'Haywoode_Workman.csv', 'Hedo_Türkoğlu.csv', 'Henry_Ellenson.csv', 'Herb_Williams.csv',\n",
    "                'Hubert_Davis.csv', 'Isaac_Bonga.csv', 'Jake_Voskuhl.csv', 'Jakob_Poeltl.csv', 'Jalen_Harris.csv', 'Jalen_Rose.csv',\n",
    "                'Jamaal_Magloire.csv', 'Jamario_Moon.csv', 'James_Harden.csv', 'James_Johnson.csv', 'Jannero_Pargo.csv', 'Jared_Sullinger.csv',\n",
    "                'Jarrett_Jack.csv', 'Jason_Kapono.csv', 'Jason_Thompson.csv', 'Jeff_Dowtin.csv', 'Jelani_McCoy.csv', 'Jeremy_Lin.csv',\n",
    "                'Jermaine_Jackson.csv', \"Jermaine_O'Neal.csv\", 'Jerome_Williams.csv', 'Jerryd_Bayless.csv', 'Jimmy_King.csv', 'Jimmy_Oliver.csv',\n",
    "                'Jodie_Meeks.csv', 'Joel_Embiid.csv', 'Joey_Dorsey.csv', 'Joey_Graham.csv', 'Joe_Wieskamp.csv', 'John_Havlicek.csv',\n",
    "                'John_Long.csv', 'John_Lucas_III.csv', 'John_Salley.csv', 'John_Salmons.csv', 'John_Stockton.csv', 'John_Thomas.csv',\n",
    "                'John_Wallace.csv', 'Jonas_Valančiūnas.csv', 'Jordan_Loyd.csv', 'Jorge_Garbajosa.csv', 'José_Calderón.csv', 'Juancho_Hernangómez.csv',\n",
    "                'Juan_Dixon.csv', 'Julian_Wright.csv', 'Julyan_Stone.csv', 'Justin_Champagnie.csv', 'Justin_Dentmon.csv', 'Juwan_Morgan.csv',\n",
    "                'Jérôme_Moïso.csv', 'Kawhi_Leonard.csv', 'Keon_Clark.csv', 'Kevin_Durant.csv', 'Kevin_Willis.csv', 'Khem_Birch.csv',\n",
    "                'Kornél_Dávid.csv', 'Kris_Humphries.csv', 'Kyle_Lowry.csv', 'Lamond_Murray.csv', 'Landry_Fields.csv', 'Leandro_Barbosa.csv',\n",
    "                'LeBron_James.csv', 'Linas_Kleiza.csv', 'Lindsey_Hunter.csv', 'Linton_Johnson.csv', 'Lloyd_Daniels.csv', 'Lonny_Baxter.csv',\n",
    "                'Lorenzo_Brown.csv', 'Loren_Woods.csv', 'Lou_Williams.csv', 'Lucas_Nogueira.csv', 'Luis_Scola.csv', 'Luka_Dončić.csv',\n",
    "                'Luke_Jackson.csv', 'Maceo_Baston.csv', 'Malachi_Flynn.csv', 'Malachi_Richardson.csv', 'Malcolm_Miller.csv', \"Mamadou_N'Diaye.csv\",\n",
    "                'Marco_Belinelli.csv', 'Marcus_Banks.csv', 'Marcus_Camby.csv', 'Marc_Gasol.csv', 'Mark_Baker.csv', 'Mark_Jackson.csv',\n",
    "                'Martin_Lewis.csv', 'Matt_Bonner.csv', 'Matt_Thomas.csv', 'Mengke_Bateer.csv', 'Michael_Bradley.csv', 'Michael_Curry.csv',\n",
    "                'Michael_Stewart.csv', 'Micheal_Williams.csv', 'Mickaël_Piétrus.csv', 'Mike_James.csv', 'Milt_Palacio.csv', 'Morris_Peterson.csv',\n",
    "                'Muggsy_Bogues.csv', 'Nando_De_Colo.csv', 'Nate_Huffman.csv', 'Nathan_Jawai.csv', 'Negele_Knight.csv', 'Nigel_Hayes.csv',\n",
    "                'Norman_Powell.csv', 'OG_Anunoby.csv', 'Oliver_Miller.csv', 'Omar_Cook.csv', 'Oshae_Brissett.csv', 'Otto_Porter_Jr..csv',\n",
    "                'P.J._Tucker.csv', 'Pape_Sow.csv', 'Pascal_Siakam.csv', 'Patrick_McCaw.csv', \"Patrick_O'Bryant.csv\", 'Patrick_Patterson.csv',\n",
    "                'Paul_Watson.csv', 'Peja_Stojaković.csv', 'Popeye_Jones.csv', 'Pops_Mensah-Bonsu.csv', 'Precious_Achiuwa.csv', 'Primož_Brezec.csv',\n",
    "                'Quincy_Acy.csv', 'Quincy_Douby.csv', 'Rafael_Araújo.csv', 'Rafer_Alston.csv', 'Rasho_Nesterović.csv', 'Rasual_Butler.csv',\n",
    "                'Reggie_Evans.csv', 'Reggie_Slater.csv', 'Rick_Brunson.csv', 'Robert_Archibald.csv', 'Rodney_Hood.csv', 'Rod_Strickland.csv',\n",
    "                'Roger_Mason.csv', 'Roko_Ukić.csv', 'Ronald_Dupree.csv', 'Rondae_Hollis-Jefferson.csv', 'Ron_Harper_Jr..csv', 'Roy_Rogers.csv',\n",
    "                'Rudy_Gay.csv', 'Sam_Dekker.csv', 'Scottie_Barnes.csv', 'Sean_Marks.csv', 'Sebastian_Telfair.csv', 'Serge_Ibaka.csv',\n",
    "                'Shamorie_Ponds.csv', 'Sharone_Wright.csv', 'Shawn_Marion.csv', 'Shawn_Respert.csv', 'Solomon_Alabi.csv', 'Sonny_Weems.csv',\n",
    "                'Stanley_Johnson.csv', 'Stephen_Curry.csv', 'Steve_Novak.csv', 'Sundiata_Gaines.csv', 'Svi_Mykhailiuk.csv', 'T.J._Ford.csv',\n",
    "                'Terence_Davis.csv', 'Terrence_Ross.csv', 'Thaddeus_Young.csv', 'Tim_Kempton.csv', 'Tony_Massenburg.csv', 'Tracy_McGrady.csv',\n",
    "                'Tracy_Murray.csv', 'Tremont_Waters.csv', 'Trey_Johnson.csv', 'Tyler_Hansbrough.csv', 'Tyrone_Corbin.csv', 'Uroš_Slokar.csv',\n",
    "                'Vincenzo_Esposito.csv', 'Vince_Carter.csv', 'Voshon_Lenard.csv', 'Walt_Williams.csv', 'William_Cunningham.csv', 'Willie_Anderson.csv',\n",
    "                'Will_Barton.csv', 'Will_Solomon.csv', 'Wilt_Chamberlain.csv', 'Yuta_Watanabe.csv', 'Zendon_Hamilton.csv', 'Žan_Tabak.csv']:\n",
    "\n",
    "    if filename.endswith(\".csv\"):\n",
    "        encoded_filename = urllib.parse.quote(filename)\n",
    "        url = 'https://raw.githubusercontent.com/callysto/basketball-and-data-science/main/content/data/nba-players/' + encoded_filename\n",
    "        data = pd.read_csv(url)\n",
    "        data['Player'] = filename[:-4].replace('_', ' ')\n",
    "        df = pd.concat([df, data], ignore_index=True)\n",
    "\n",
    "    for column in df.columns[5:-1]:\n",
    "        df[column] = pd.to_numeric(df[column], errors='coerce')\n",
    "\n",
    "df"
   ]
  },
  {
   "attachments": {},
   "cell_type": "markdown",
   "metadata": {},
   "source": [
    "Now we can look at some statistics for all of those players, such as career average free throw percent."
   ]
  },
  {
   "cell_type": "code",
   "execution_count": null,
   "metadata": {},
   "outputs": [],
   "source": [
    "df['FG%'] = pd.to_numeric(df['FG%'], errors='coerce')\n",
    "df[df['Season'] == 'Career']['FG%'].mean()"
   ]
  },
  {
   "attachments": {},
   "cell_type": "markdown",
   "metadata": {},
   "source": [
    "We can also compare statistics for the players on the 2022-2023 season roster."
   ]
  },
  {
   "cell_type": "code",
   "execution_count": null,
   "metadata": {},
   "outputs": [],
   "source": [
    "raptors_2023 = ['Scottie Barnes',\n",
    "                'Chris Boucher',\n",
    "                'Pascal Siakam',\n",
    "                'Fred VanVleet',\n",
    "                'OG Anunoby',\n",
    "                'Gary Trent Jr.',\n",
    "                'Christian Koloko',\n",
    "                'Precious Achiuwa',\n",
    "                'Thaddeus Young',\n",
    "                'Malachi Flynn',\n",
    "                'Dalano Banton',\n",
    "                'Jakob Poeltl',\n",
    "                'Jeff Dowtin',\n",
    "                'Will Barton',\n",
    "                'Ron Harper Jr.',\n",
    "                'Joe Wieskamp',\n",
    "                'Otto Porter Jr.']\n",
    "\n",
    "raptors_stats = df[(df['Player'].isin(raptors_2023)) & (df['Season'] == 'Career')]\n",
    "\n",
    "import plotly.express as px\n",
    "px.bar(raptors_stats.sort_values('FG%'), x='Player', y='FG%', title='Raptors 2023 Career Field Goal Percentage')"
   ]
  },
  {
   "attachments": {},
   "cell_type": "markdown",
   "metadata": {},
   "source": [
    "### Exercise\n",
    "\n",
    "---\n",
    "\n",
    "Create a visualization, such as a bar graph or scatter plot, from the dataframe called `df`.\n",
    "\n",
    "Suggested visualizations are:\n",
    "* a bar graph of a career stat other than field goal percentage for the 2022-2023 Raptors roster\n",
    "* a scatter plot with field goal attempts on the x-axis and points on the y-axis to see if there is a relationship. Use `color='Player', height=800` to make it look nicer.\n",
    "* a line graph with `Age` on the x-axis and a stat on the y-axis for a particular player, for example `df[df['Player']=='Jakob Poeltl']`\n",
    "\n",
    "---"
   ]
  },
  {
   "cell_type": "code",
   "execution_count": null,
   "metadata": {},
   "outputs": [],
   "source": [
    "px.scatter(df, x='FGA', y='PTS', color='Player', height=800)"
   ]
  },
  {
   "attachments": {},
   "cell_type": "markdown",
   "metadata": {},
   "source": [
    "Now that you have an understanding of how Jupyter notebooks work, check out these [example projects](examples).\n",
    "\n",
    "In the next notebook we will look at [markdown](04-markdown.ipynb) for formatting text."
   ]
  },
  {
   "attachments": {},
   "cell_type": "markdown",
   "metadata": {},
   "source": [
    "[![Callysto.ca License](https://github.com/callysto/curriculum-notebooks/blob/master/callysto-notebook-banner-bottom.jpg?raw=true)](https://github.com/callysto/curriculum-notebooks/blob/master/LICENSE.md)"
   ]
  }
 ],
 "metadata": {
  "kernelspec": {
   "display_name": "Python 3",
   "language": "python",
   "name": "python3"
  },
  "language_info": {
   "codemirror_mode": {
    "name": "ipython",
    "version": 3
   },
   "file_extension": ".py",
   "mimetype": "text/x-python",
   "name": "python",
   "nbconvert_exporter": "python",
   "pygments_lexer": "ipython3",
   "version": "3.11.4"
  }
 },
 "nbformat": 4,
 "nbformat_minor": 2
}
