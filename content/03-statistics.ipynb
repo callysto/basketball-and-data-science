{
 "cells": [
  {
   "attachments": {},
   "cell_type": "markdown",
   "metadata": {},
   "source": [
    "**Insert Banner Here**"
   ]
  },
  {
   "attachments": {},
   "cell_type": "markdown",
   "metadata": {},
   "source": [
    "# Statistics\n",
    "\n",
    "This notebook will introduce some basic statistics with data. Statistics is the process of collecting, describing, and analyzing data. This includes things like [mean, median, and mode](https://www.youtube.com/watch?v=zOYVZtTIjBA&t=49s).\n",
    "\n",
    "First we will load the same data we have been using about [Pascal Siakam](https://www.basketball-reference.com/players/s/siakapa01.htm)."
   ]
  },
  {
   "cell_type": "code",
   "execution_count": null,
   "metadata": {},
   "outputs": [],
   "source": [
    "import pandas as pd\n",
    "data = pd.read_csv('data/siakam.csv')\n",
    "data"
   ]
  },
  {
   "attachments": {},
   "cell_type": "markdown",
   "metadata": {},
   "source": [
    "And here's a reminder of the data glossary from [basketball-reference.com](https://www.basketball-reference.com):\n",
    "\n",
    "|Column|Meaning|\n",
    "|-|-|\n",
    "|Age|Player's age on February 1 of the season|\n",
    "|Lg|League|\n",
    "|Pos|Position|\n",
    "|G|Games|\n",
    "|GS|Games Started|\n",
    "|MP|Minutes Played Per Game|\n",
    "|FG|Field Goals Per Game|\n",
    "|FGA|Field Goal Attempts Per Game|\n",
    "|FG%|Field Goal Percentage|\n",
    "|3P|3-Point Field Goals Per Game|\n",
    "|3PA|3-Point Field Goal Attempts Per Game|\n",
    "|3P%|3-Point Field Goal Percentage|\n",
    "|2P|2-Point Field Goals Per Game|\n",
    "|2PA|2-Point Field Goal Attempts Per Game|\n",
    "|2P%|2-Point Field Goal Percentage|\n",
    "|eFG%|Effective Field Goal Percentage*|\n",
    "|FT|Free Throws Per Game|\n",
    "|FTA|Free Throw Attempts Per Game|\n",
    "|FT%|Free Throw Percentage|\n",
    "|ORB|Offensive Rebounds Per Game|\n",
    "|DRB|Defensive Rebounds Per Game|\n",
    "|TRB|Total Rebounds Per Game|\n",
    "|AST|Assists Per Game|\n",
    "|STL|Steals Per Game|\n",
    "|BLK|Blocks Per Game|\n",
    "|TOV|Turnovers Per Game|\n",
    "|PF|Personal Fouls Per Game|\n",
    "|PTS|Points Per Game|"
   ]
  },
  {
   "attachments": {},
   "cell_type": "markdown",
   "metadata": {},
   "source": [
    "Notice that there is a row for `Career`, let's create a new dataframe that doesn't include that. We'll drop the row with an index of `7`."
   ]
  },
  {
   "cell_type": "code",
   "execution_count": null,
   "metadata": {},
   "outputs": [],
   "source": [
    "seasons = data.drop(data.index[7])\n",
    "seasons"
   ]
  },
  {
   "attachments": {},
   "cell_type": "markdown",
   "metadata": {},
   "source": [
    "## Calculating Statistics\n",
    "\n",
    "Now let's calculate some statistics, and maybe compare them to that `Career` row."
   ]
  },
  {
   "cell_type": "code",
   "execution_count": null,
   "metadata": {},
   "outputs": [],
   "source": [
    "seasons['G'].sum()"
   ]
  },
  {
   "attachments": {},
   "cell_type": "markdown",
   "metadata": {},
   "source": [
    "Comparing that to the value from row `7` in the original dataframe."
   ]
  },
  {
   "cell_type": "code",
   "execution_count": null,
   "metadata": {},
   "outputs": [],
   "source": [
    "data['G'][7]"
   ]
  },
  {
   "attachments": {},
   "cell_type": "markdown",
   "metadata": {},
   "source": [
    "Let's find the average (mean) number of games he played per season."
   ]
  },
  {
   "cell_type": "code",
   "execution_count": null,
   "metadata": {},
   "outputs": [],
   "source": [
    "seasons['G'].mean()"
   ]
  },
  {
   "attachments": {},
   "cell_type": "markdown",
   "metadata": {},
   "source": [
    "We can also calculate `median`, `max`imum, and `min`imum."
   ]
  },
  {
   "cell_type": "code",
   "execution_count": null,
   "metadata": {},
   "outputs": [],
   "source": [
    "seasons['G'].median()"
   ]
  },
  {
   "cell_type": "code",
   "execution_count": null,
   "metadata": {},
   "outputs": [],
   "source": [
    "seasons['G'].max()"
   ]
  },
  {
   "cell_type": "code",
   "execution_count": null,
   "metadata": {},
   "outputs": [],
   "source": [
    "seasons['G'].min()"
   ]
  },
  {
   "attachments": {},
   "cell_type": "markdown",
   "metadata": {},
   "source": [
    "It ia also possible to calculate any of these statistics for the whole dataframe. We will want to use `numeric_only = True` so that it is only calculating with columns containing numbers."
   ]
  },
  {
   "cell_type": "code",
   "execution_count": null,
   "metadata": {},
   "outputs": [],
   "source": [
    "seasons.mean(numeric_only = True)"
   ]
  },
  {
   "attachments": {},
   "cell_type": "markdown",
   "metadata": {},
   "source": [
    "We may also wnat to use the `.describe()` method, either on a single column or on the whole dataframe."
   ]
  },
  {
   "cell_type": "code",
   "execution_count": null,
   "metadata": {},
   "outputs": [],
   "source": [
    "seasons['G'].describe()"
   ]
  },
  {
   "cell_type": "code",
   "execution_count": null,
   "metadata": {},
   "outputs": [],
   "source": [
    "seasons.describe()"
   ]
  },
  {
   "attachments": {},
   "cell_type": "markdown",
   "metadata": {},
   "source": [
    "---\n",
    "\n",
    "### Exercise\n",
    "\n",
    "Use code to find the maximum and minimum Minutes Played Per Game (`'MP'`) in the `seasons` dataframe\n",
    "\n",
    "---"
   ]
  },
  {
   "cell_type": "code",
   "execution_count": null,
   "metadata": {},
   "outputs": [],
   "source": []
  },
  {
   "attachments": {},
   "cell_type": "markdown",
   "metadata": {},
   "source": [
    "## Making New Columns\n",
    "\n",
    "In the dataset there are a few percent columns, let's create a new column that is the average values of 3-Point, 2-Point, and Free Throw percents."
   ]
  },
  {
   "cell_type": "code",
   "execution_count": null,
   "metadata": {},
   "outputs": [],
   "source": [
    "seasons['Shot Percentage'] = (seasons['FG%'] + seasons['3P%'] + seasons['2P%'] + seasons['FT%']) / 4\n",
    "seasons"
   ]
  },
  {
   "attachments": {},
   "cell_type": "markdown",
   "metadata": {},
   "source": [
    "And we can also decide to display only those columns."
   ]
  },
  {
   "cell_type": "code",
   "execution_count": null,
   "metadata": {},
   "outputs": [],
   "source": [
    "seasons[['FG%','3P%','2P%','FT%','Shot Percentage']]"
   ]
  },
  {
   "attachments": {},
   "cell_type": "markdown",
   "metadata": {},
   "source": [
    "---\n",
    "\n",
    "### Exercise\n",
    "\n",
    "Create a new column that is Games (`'G'`) times Minutes Played Per Game (`'MP'`). Use the `*` symbol for times.\n",
    "\n",
    "---"
   ]
  },
  {
   "cell_type": "code",
   "execution_count": null,
   "metadata": {},
   "outputs": [],
   "source": []
  },
  {
   "attachments": {},
   "cell_type": "markdown",
   "metadata": {},
   "source": [
    "In the next notebook we will look at [statistics](03-statistics.ipynb)."
   ]
  },
  {
   "attachments": {},
   "cell_type": "markdown",
   "metadata": {},
   "source": [
    "**Insert Banner Here**"
   ]
  }
 ],
 "metadata": {
  "kernelspec": {
   "display_name": "Python 3",
   "language": "python",
   "name": "python3"
  },
  "language_info": {
   "codemirror_mode": {
    "name": "ipython",
    "version": 3
   },
   "file_extension": ".py",
   "mimetype": "text/x-python",
   "name": "python",
   "nbconvert_exporter": "python",
   "pygments_lexer": "ipython3",
   "version": "3.11.2"
  },
  "orig_nbformat": 4
 },
 "nbformat": 4,
 "nbformat_minor": 2
}
