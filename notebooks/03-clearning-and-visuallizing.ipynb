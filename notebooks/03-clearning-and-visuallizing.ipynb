{
 "cells": [
  {
   "attachments": {},
   "cell_type": "markdown",
   "metadata": {},
   "source": [
    "![Dell Logo](https://upload.wikimedia.org/wikipedia/commons/thumb/5/56/Dell_Technologies_logo.svg/1280px-Dell_Technologies_logo.svg.png)\n",
    "\n",
    "![Digital Moment Logo](https://digitalmoment.org/img/logo-DM-dark.png)\n",
    "\n",
    "![Callysto.ca Banner](https://github.com/callysto/curriculum-notebooks/blob/master/callysto-notebook-banner-top.jpg?raw=true)\n",
    "\n",
    "<a href=\"https://hub.callysto.ca/jupyter/hub/user-redirect/git-pull?repo=https%3A%2F%2Fgithub.com%2Fcallysto%2Fbasketball-and-data-science&branch=main&subPath=notebooks/03-cleaning-and-visualizing.ipynb&depth=1\"><img src=\"https://raw.githubusercontent.com/callysto/curriculum-notebooks/master/open-in-callysto-button.svg?sanitize=true\" width=\"123\" height=\"24\" alt=\"Open in Callysto\"/></a>"
   ]
  },
  {
   "attachments": {},
   "cell_type": "markdown",
   "metadata": {},
   "source": [
    "# Basketball and Data Science\n",
    "\n",
    "## Cleaning and Visualizing Data\n",
    "\n",
    "Let's take a look at the [NBA 2023 Standings from basketball-reference.com]('https://www.basketball-reference.com/leagues/NBA_2023_standings.html).\n",
    "\n",
    "There are a few tables on that page, let's read them using `pandas`."
   ]
  },
  {
   "cell_type": "code",
   "execution_count": null,
   "metadata": {},
   "outputs": [],
   "source": [
    "import pandas as pd\n",
    "page = pd.read_html('https://www.basketball-reference.com/leagues/NBA_2023_standings.html')\n",
    "for table in page:\n",
    "    display(table)"
   ]
  },
  {
   "attachments": {},
   "cell_type": "markdown",
   "metadata": {},
   "source": [
    "We can then visualize those first two data tables using `Plotly`."
   ]
  },
  {
   "cell_type": "code",
   "execution_count": null,
   "metadata": {},
   "outputs": [],
   "source": [
    "import plotly.express as px\n",
    "px.bar(page[0], x='Eastern Conference', y='W/L%', title='Win/Loss % by Team (Eastern)').show()\n",
    "px.bar(page[1], x='Western Conference', y='W/L%', title='Win/Loss % by Team (Western)').show()"
   ]
  },
  {
   "attachments": {},
   "cell_type": "markdown",
   "metadata": {},
   "source": [
    "Let's combine the two data tables together using `concat`.\n",
    "\n",
    "We'll first need to make sure the columns in each dataframe that contain the team names are both titled `Team` instead of indicating the conference. Then we can add another column to indicate the conference."
   ]
  },
  {
   "cell_type": "code",
   "execution_count": null,
   "metadata": {},
   "outputs": [],
   "source": [
    "# rename the columns to be the same so we can concatenate the dataframes\n",
    "east = page[0].rename(columns={'Eastern Conference': 'Team'})\n",
    "west = page[1].rename(columns={'Western Conference': 'Team'})\n",
    "\n",
    "# add a column to each dataframe to indicate the conference\n",
    "east['Conference'] = 'Eastern'\n",
    "west['Conference'] = 'Western'\n",
    "\n",
    "standings = pd.concat([east, west])\n",
    "px.bar(standings.sort_values('W/L%', ascending=False), x='Team', y='W/L%', title='Win/Loss % by Team')"
   ]
  },
  {
   "attachments": {},
   "cell_type": "markdown",
   "metadata": {},
   "source": [
    "We also notice that the team name column has some extra information, let's move that to new columns."
   ]
  },
  {
   "cell_type": "code",
   "execution_count": null,
   "metadata": {},
   "outputs": [],
   "source": [
    "# create a column to indicate if the team made the playoffs\n",
    "standings['Playoffs'] = standings['Team'].str.contains('\\*')\n",
    "# remove the asterisk from the team name\n",
    "standings['Team'] = standings['Team'].str.replace('\\*', '', regex=True)\n",
    "# create a column to indicate the conference rank\n",
    "standings['Conference Rank'] = standings['Team'].str.split('(').str[1].str[:-1].astype(int)\n",
    "# remove the (n) from the team name\n",
    "standings['Team'] = standings['Team'].str.split('(').str[0].str.strip()\n",
    "\n",
    "standings = standings.reset_index(drop=True)\n",
    "standings"
   ]
  },
  {
   "attachments": {},
   "cell_type": "markdown",
   "metadata": {},
   "source": [
    "Now if we want to make a bar graph with our favorite team as a different color, we'll need to use Plotly Graph Objects instead of the Plotly Express that we've been using."
   ]
  },
  {
   "cell_type": "code",
   "execution_count": null,
   "metadata": {},
   "outputs": [],
   "source": [
    "import plotly.graph_objects as go\n",
    "\n",
    "# sort the dataframe by win/loss percentage\n",
    "sorted = standings.sort_values('W/L%', ascending=False)\n",
    "# make a list of colours, red for the Raptors, grey for everyone else\n",
    "colors = ['#CE1141' if x else 'grey' for x in sorted['Team'].str.contains('Raptors')]\n",
    "\n",
    "go.Figure(data=[go.Bar(x=sorted['Team'], y=sorted['W/L%'], marker_color=colors)]).update_layout(title_text='Win/Loss % by Team')"
   ]
  },
  {
   "attachments": {},
   "cell_type": "markdown",
   "metadata": {},
   "source": [
    "## Team Color Codes\n",
    "\n",
    "https://teamcolorcodes.com/nba-team-color-codes/\n",
    "\n",
    "https://teamcolorcodes.com/contact-us/"
   ]
  },
  {
   "cell_type": "code",
   "execution_count": null,
   "metadata": {},
   "outputs": [],
   "source": [
    "color_codes = pd.read_html('https://teamcolorcodes.com/nba-team-color-codes/')[3]\n",
    "color_codes"
   ]
  },
  {
   "attachments": {},
   "cell_type": "markdown",
   "metadata": {},
   "source": [
    "The table contains the color names, which we don't want, so we will remove everything that comes before the `#` sign."
   ]
  },
  {
   "cell_type": "code",
   "execution_count": null,
   "metadata": {},
   "outputs": [],
   "source": [
    "def remove_color_name(cell):\n",
    "    try:\n",
    "        return '#'+cell.split('#')[1]\n",
    "    except:\n",
    "        return cell\n",
    "\n",
    "color_codes = color_codes.applymap(remove_color_name)\n",
    "color_codes"
   ]
  },
  {
   "attachments": {},
   "cell_type": "markdown",
   "metadata": {},
   "source": [
    "Now let's merge this with our standings dataframe. Again we'll need to rename a column in our second dataframe to `Team`."
   ]
  },
  {
   "cell_type": "code",
   "execution_count": null,
   "metadata": {},
   "outputs": [],
   "source": [
    "color_codes = color_codes.rename(columns={'NBA Team Name': 'Team'})\n",
    "standings = pd.merge(standings, color_codes, on='Team', how='left')\n",
    "standings"
   ]
  },
  {
   "attachments": {},
   "cell_type": "markdown",
   "metadata": {},
   "source": [
    "Now we can make the same bar graph with the colors from the `Color 1` column."
   ]
  },
  {
   "cell_type": "code",
   "execution_count": null,
   "metadata": {},
   "outputs": [],
   "source": [
    "sorted = standings.sort_values('W/L%', ascending=False)\n",
    "go.Figure(data=[go.Bar(x=sorted['Team'], y=sorted['W/L%'], marker_color=sorted['Color 1'])]).update_layout(title_text='Win/Loss % by Team')"
   ]
  },
  {
   "attachments": {},
   "cell_type": "markdown",
   "metadata": {},
   "source": [
    "## Using an API\n",
    "\n",
    "Advanced stats using [nba_api](https://pypi.org/project/nba-api/)\n",
    "\n",
    "https://github.com/swar/nba_api/blob/master/docs/examples/Basics.ipynb"
   ]
  },
  {
   "cell_type": "code",
   "execution_count": null,
   "metadata": {},
   "outputs": [],
   "source": [
    "#!pip install nba_api\n",
    "from nba_api.stats.endpoints import playercareerstats\n",
    "from nba_api.stats.static import players\n",
    "player = players.find_players_by_full_name('Pascal Siakam')[0]\n",
    "career = playercareerstats.PlayerCareerStats(player_id = player['id'])\n",
    "for i, df in enumerate(career.get_data_frames()):\n",
    "    print('dataframe', i)\n",
    "    display(df)"
   ]
  },
  {
   "cell_type": "code",
   "execution_count": null,
   "metadata": {},
   "outputs": [],
   "source": [
    "player_data = career.get_data_frames()[0]\n",
    "player_data"
   ]
  },
  {
   "cell_type": "code",
   "execution_count": null,
   "metadata": {},
   "outputs": [],
   "source": [
    "px.line(player_data, x='SEASON_ID', y='PTS', title='Points per Season for ' + player['full_name'])"
   ]
  },
  {
   "attachments": {},
   "cell_type": "markdown",
   "metadata": {},
   "source": [
    "Shot Charts"
   ]
  },
  {
   "cell_type": "code",
   "execution_count": null,
   "metadata": {},
   "outputs": [],
   "source": [
    "from nba_api.stats.endpoints import shotchartdetail\n",
    "from nba_api.stats.static import teams\n",
    "team_name = 'Toronto Raptors'\n",
    "team = teams.find_teams_by_full_name(team_name)[0]\n",
    "team_id = team['id']\n",
    "season = '2022-23'\n",
    "season_type = 'Regular Season'\n",
    "all_raptors_shots = shotchartdetail.ShotChartDetail(team_id=team_id, player_id=0, season_nullable=season, season_type_all_star=season_type, context_measure_simple='FGA') # FGA = Field Goal Attempts, PTS = Points\n",
    "raptors_shots = all_raptors_shots.get_data_frames()[0]\n",
    "raptors_shots"
   ]
  },
  {
   "cell_type": "code",
   "execution_count": null,
   "metadata": {},
   "outputs": [],
   "source": [
    "title='Shot Chart by Type for the '+team_name+' '+season+' '+season_type\n",
    "px.scatter(raptors_shots[raptors_shots['SHOT_MADE_FLAG']==1], x='LOC_X', y='LOC_Y', color='ACTION_TYPE', height=800, title=title)"
   ]
  },
  {
   "cell_type": "code",
   "execution_count": null,
   "metadata": {},
   "outputs": [],
   "source": [
    "px.scatter(raptors_shots, x='LOC_X', y='LOC_Y', color='SHOT_MADE_FLAG', height=1200, title='Shot Chart for the '+team_name+' '+season+' '+season_type)"
   ]
  },
  {
   "cell_type": "code",
   "execution_count": null,
   "metadata": {},
   "outputs": [],
   "source": [
    "raptors_shots['SHOT_MADE_SIZE'] = raptors_shots['SHOT_MADE_FLAG']+0.1\n",
    "title='Shot Chart by Player for the '+team_name+' '+season+' '+season_type\n",
    "px.scatter(raptors_shots, x='LOC_X', y='LOC_Y', color='PLAYER_NAME', size='SHOT_MADE_SIZE', height=1200, title=title)"
   ]
  },
  {
   "attachments": {},
   "cell_type": "markdown",
   "metadata": {},
   "source": [
    "https://medium.com/@namnguyen93/a-quick-look-into-visualizing-nba-shot-data-24756665565b"
   ]
  }
 ],
 "metadata": {
  "kernelspec": {
   "display_name": "Python 3",
   "language": "python",
   "name": "python3"
  },
  "language_info": {
   "codemirror_mode": {
    "name": "ipython",
    "version": 3
   },
   "file_extension": ".py",
   "mimetype": "text/x-python",
   "name": "python",
   "nbconvert_exporter": "python",
   "pygments_lexer": "ipython3",
   "version": "3.10.4"
  },
  "orig_nbformat": 4
 },
 "nbformat": 4,
 "nbformat_minor": 2
}
